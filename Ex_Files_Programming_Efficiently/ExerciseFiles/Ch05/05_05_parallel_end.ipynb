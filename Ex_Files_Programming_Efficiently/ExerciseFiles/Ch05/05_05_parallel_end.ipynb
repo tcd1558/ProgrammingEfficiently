{
 "cells": [
  {
   "cell_type": "markdown",
   "metadata": {},
   "source": [
    "## 05_05: Introduction to parallel programming"
   ]
  },
  {
   "cell_type": "code",
   "execution_count": 1,
   "metadata": {},
   "outputs": [],
   "source": [
    "import multiprocessing"
   ]
  },
  {
   "cell_type": "code",
   "execution_count": 2,
   "metadata": {},
   "outputs": [],
   "source": [
    "import numpy as np\n",
    "\n",
    "import matplotlib\n",
    "import matplotlib.pyplot as pp"
   ]
  },
  {
   "cell_type": "code",
   "execution_count": 3,
   "metadata": {},
   "outputs": [
    {
     "name": "stdout",
     "output_type": "stream",
     "text": [
      "Writing mandel.py\n"
     ]
    }
   ],
   "source": [
    "%%file mandel.py\n",
    "\n",
    "import numpy as np\n",
    "\n",
    "def compute_mandel(c, maxit=256):\n",
    "    z = 0.0j\n",
    "\n",
    "    for it in range(1, maxit):\n",
    "        z = z*z + c\n",
    "        \n",
    "        if abs(z) > 2.0:\n",
    "            return it\n",
    "\n",
    "    return np.inf"
   ]
  },
  {
   "cell_type": "code",
   "execution_count": 4,
   "metadata": {},
   "outputs": [],
   "source": [
    "import mandel"
   ]
  },
  {
   "cell_type": "code",
   "execution_count": 5,
   "metadata": {},
   "outputs": [],
   "source": [
    "def run_mandel(extent=(-2.0,1.0,-1.5,1.5), res=256, maxit=256):\n",
    "    xs = np.linspace(extent[0], extent[1], res)\n",
    "    ys = np.linspace(extent[2], extent[3], res)\n",
    "    \n",
    "    escaped = np.zeros((res,res), np.float64)\n",
    "    \n",
    "    for i in range(res):\n",
    "        for j in range(res):\n",
    "            c = xs[i] + 1j * ys[j]\n",
    "            escaped[i,j] = mandel.compute_mandel(c, maxit)\n",
    "    \n",
    "    return escaped / maxit"
   ]
  },
  {
   "cell_type": "code",
   "execution_count": 6,
   "metadata": {},
   "outputs": [
    {
     "name": "stdout",
     "output_type": "stream",
     "text": [
      "1.61 s ± 6.78 ms per loop (mean ± std. dev. of 7 runs, 1 loop each)\n"
     ]
    }
   ],
   "source": [
    "%timeit run_mandel()"
   ]
  },
  {
   "cell_type": "code",
   "execution_count": 7,
   "metadata": {},
   "outputs": [],
   "source": [
    "def run_mandel_multiproc(extent=(-2.0,1.0,-1.5,1.5), res=256, maxit=256, nproc=4):\n",
    "    xs = np.linspace(extent[0], extent[1], res)\n",
    "    ys = np.linspace(extent[2], extent[3], res)\n",
    "    \n",
    "    escaped = np.zeros((res,res), np.float64)\n",
    "    \n",
    "    # create the pool of nproc processes\n",
    "    pool = multiprocessing.Pool(processes=nproc)\n",
    "    \n",
    "    for i in range(res):\n",
    "        # feed the elements of the iterator to compute_mandel,\n",
    "        # collect results into row of escaped\n",
    "        escaped[i,:] = pool.map(mandel.compute_mandel, (xs[i] + 1j * ys[j] for j in range(res)))\n",
    "        \n",
    "    # close the pool and free the processes\n",
    "    pool.close()\n",
    "    \n",
    "    return escaped / maxit"
   ]
  },
  {
   "cell_type": "code",
   "execution_count": 8,
   "metadata": {},
   "outputs": [
    {
     "name": "stdout",
     "output_type": "stream",
     "text": [
      "907 ms ± 7.11 ms per loop (mean ± std. dev. of 7 runs, 1 loop each)\n"
     ]
    }
   ],
   "source": [
    "%timeit run_mandel_multiproc()"
   ]
  },
  {
   "cell_type": "code",
   "execution_count": 9,
   "metadata": {},
   "outputs": [
    {
     "name": "stdout",
     "output_type": "stream",
     "text": [
      "Writing mandelvec.py\n"
     ]
    }
   ],
   "source": [
    "%%file mandelvec.py\n",
    "\n",
    "import numpy as np\n",
    "import mandel\n",
    "\n",
    "def compute_mandel_vec(cs, maxit=256):\n",
    "    return np.array([mandel.compute_mandel(c, maxit) for c in cs])"
   ]
  },
  {
   "cell_type": "code",
   "execution_count": 10,
   "metadata": {},
   "outputs": [],
   "source": [
    "import mandelvec"
   ]
  },
  {
   "cell_type": "code",
   "execution_count": 11,
   "metadata": {},
   "outputs": [],
   "source": [
    "def run_mandel_multiproc2(extent=(-2.0,1.0,-1.5,1.5), res=256, maxit=256, nproc=4):\n",
    "    xs = np.linspace(extent[0], extent[1], res)\n",
    "    ys = np.linspace(extent[2], extent[3], res)\n",
    "    \n",
    "    escaped = np.zeros((res,res), np.float64)\n",
    "    \n",
    "    pool = multiprocessing.Pool(processes=nproc)\n",
    "\n",
    "    rows = pool.map(mandelvec.compute_mandel_vec,\n",
    "                    # compute coordinates along entire row, feed it to compute_mandel_vec \n",
    "                    (xs[i] + 1j * ys[:] for i in range(res)))\n",
    "            \n",
    "    pool.close()\n",
    "    \n",
    "    return np.vstack(rows) / maxit"
   ]
  },
  {
   "cell_type": "code",
   "execution_count": 12,
   "metadata": {},
   "outputs": [
    {
     "name": "stdout",
     "output_type": "stream",
     "text": [
      "421 ms ± 5.11 ms per loop (mean ± std. dev. of 7 runs, 1 loop each)\n"
     ]
    }
   ],
   "source": [
    "%timeit run_mandel_multiproc2()"
   ]
  },
  {
   "cell_type": "code",
   "execution_count": null,
   "metadata": {},
   "outputs": [],
   "source": []
  }
 ],
 "metadata": {
  "anaconda-cloud": {},
  "kernelspec": {
   "display_name": "Python 3",
   "language": "python",
   "name": "python3"
  },
  "language_info": {
   "codemirror_mode": {
    "name": "ipython",
    "version": 3
   },
   "file_extension": ".py",
   "mimetype": "text/x-python",
   "name": "python",
   "nbconvert_exporter": "python",
   "pygments_lexer": "ipython3",
   "version": "3.7.6"
  }
 },
 "nbformat": 4,
 "nbformat_minor": 1
}
