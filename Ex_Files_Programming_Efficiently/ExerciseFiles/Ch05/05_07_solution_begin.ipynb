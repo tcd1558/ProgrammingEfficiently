{
 "cells": [
  {
   "cell_type": "markdown",
   "metadata": {},
   "source": [
    "## 05_07: Inverted index solution"
   ]
  },
  {
   "cell_type": "code",
   "execution_count": null,
   "metadata": {},
   "outputs": [],
   "source": [
    "import multiprocessing\n",
    "import glob\n",
    "import collections"
   ]
  },
  {
   "cell_type": "code",
   "execution_count": null,
   "metadata": {},
   "outputs": [],
   "source": [
    "%%file index.py\n",
    "\n",
    "exclude = set('!\"#$%&\\'()*+,-./:;<=>?@[\\\\]^_`{|}~')\n",
    "\n",
    "def words(line):\n",
    "    # remove punctuation\n",
    "    clean = ''.join(char for char in line if char not in exclude)\n",
    "\n",
    "    # split the line into words, make all words lowercase, return list \n",
    "    return [word.lower() for word in clean.split()]\n",
    "\n",
    "def indexfile(filename):\n",
    "    ret = []\n",
    "\n",
    "    # enumerate lines in file\n",
    "    for i, line in enumerate(open(filename, 'r').readlines()):\n",
    "        # for each word in line...\n",
    "        for word in words(line):\n",
    "            # ...append a line to results, listing word and location\n",
    "            ret.append(f'{word} {filename},{i}')\n",
    "    \n",
    "    return '\\n'.join(ret)"
   ]
  },
  {
   "cell_type": "code",
   "execution_count": null,
   "metadata": {},
   "outputs": [],
   "source": [
    "import index"
   ]
  },
  {
   "cell_type": "code",
   "execution_count": null,
   "metadata": {},
   "outputs": [],
   "source": [
    "pool = multiprocessing.Pool(processes=4)\n",
    "partials = pool.map(index.indexfile, glob.glob('sonnets/*.txt'))\n",
    "pool.close()"
   ]
  },
  {
   "cell_type": "code",
   "execution_count": null,
   "metadata": {},
   "outputs": [],
   "source": [
    "len(partials)"
   ]
  },
  {
   "cell_type": "code",
   "execution_count": null,
   "metadata": {},
   "outputs": [],
   "source": [
    "print(partials[0])"
   ]
  },
  {
   "cell_type": "code",
   "execution_count": null,
   "metadata": {},
   "outputs": [],
   "source": [
    "indexdict = collections.defaultdict(list)\n",
    "\n",
    "# loop over sonnets\n",
    "for partial in partials:\n",
    "    # loop over lines\n",
    "    for entry in partial.split('\\n'):\n",
    "        # get word and location\n",
    "        word, loc = entry.split(' ')\n",
    "\n",
    "        # append to the location list for the word\n",
    "        indexdict[word].append(loc)"
   ]
  },
  {
   "cell_type": "code",
   "execution_count": null,
   "metadata": {},
   "outputs": [],
   "source": [
    "indexdict['love']"
   ]
  },
  {
   "cell_type": "code",
   "execution_count": null,
   "metadata": {},
   "outputs": [],
   "source": [
    "with open('index.txt', 'w') as outfile:\n",
    "    # loop over words\n",
    "    for word in sorted(indexdict.keys()):\n",
    "        # make single space-separated string out of sorted locations\n",
    "        locstring = ' '.join(sorted(indexdict[word]))\n",
    "\n",
    "        # write out word + sorted-location string\n",
    "        outfile.write(f'{word} {locstring}\\n')"
   ]
  },
  {
   "cell_type": "code",
   "execution_count": null,
   "metadata": {},
   "outputs": [],
   "source": [
    "open('index.txt', 'r').readlines()[:10]"
   ]
  },
  {
   "cell_type": "code",
   "execution_count": null,
   "metadata": {},
   "outputs": [],
   "source": [
    "sorted(indexdict, key=lambda x: len(indexdict[x]), reverse=True)"
   ]
  },
  {
   "cell_type": "code",
   "execution_count": null,
   "metadata": {},
   "outputs": [],
   "source": [
    "[len(indexdict[word]) for word in ['love','sweet','eyes']]"
   ]
  },
  {
   "cell_type": "code",
   "execution_count": null,
   "metadata": {},
   "outputs": [],
   "source": []
  }
 ],
 "metadata": {
  "kernelspec": {
   "display_name": "Python 3",
   "language": "python",
   "name": "python3"
  },
  "language_info": {
   "codemirror_mode": {
    "name": "ipython",
    "version": 3
   },
   "file_extension": ".py",
   "mimetype": "text/x-python",
   "name": "python",
   "nbconvert_exporter": "python",
   "pygments_lexer": "ipython3",
   "version": "3.7.6"
  }
 },
 "nbformat": 4,
 "nbformat_minor": 4
}
