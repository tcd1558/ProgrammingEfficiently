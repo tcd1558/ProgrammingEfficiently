{
 "cells": [
  {
   "cell_type": "markdown",
   "metadata": {},
   "source": [
    "## 05_03: memory profiling"
   ]
  },
  {
   "cell_type": "code",
   "execution_count": null,
   "metadata": {},
   "outputs": [],
   "source": [
    "import sys\n",
    "import collections\n",
    "\n",
    "import numpy as np\n",
    "import pandas as pd\n",
    "\n",
    "import guppy # get guppy for Python 3 with \"pip install guppy3\" "
   ]
  },
  {
   "cell_type": "code",
   "execution_count": null,
   "metadata": {},
   "outputs": [],
   "source": [
    "vector_list = [float(i) for i in range(1000000)]"
   ]
  },
  {
   "cell_type": "code",
   "execution_count": null,
   "metadata": {},
   "outputs": [],
   "source": [
    "vector_np = np.arange(0, 1000000, dtype='d')"
   ]
  },
  {
   "cell_type": "code",
   "execution_count": null,
   "metadata": {},
   "outputs": [],
   "source": [
    "sys.getsizeof(1.0)"
   ]
  },
  {
   "cell_type": "code",
   "execution_count": null,
   "metadata": {},
   "outputs": [],
   "source": [
    "sys.getsizeof(vector_list) + 1000000 * sys.getsizeof(1.0)"
   ]
  },
  {
   "cell_type": "code",
   "execution_count": null,
   "metadata": {},
   "outputs": [],
   "source": [
    "sys.getsizeof(vector_np)"
   ]
  },
  {
   "cell_type": "code",
   "execution_count": null,
   "metadata": {},
   "outputs": [],
   "source": [
    "%%file arrays.py\n",
    "\n",
    "import numpy as np\n",
    "import guppy\n",
    "\n",
    "# initialize the guppy environment\n",
    "hp = guppy.hpy()\n",
    "\n",
    "# set reference point\n",
    "hp.setrelheap()\n",
    "\n",
    "# run memory-consuming operations\n",
    "vector_list = [float(i) for i in range(1000000)]\n",
    "vector_np = np.arange(0, 1000000, dtype='d')\n",
    "\n",
    "# get a snapshot of heap allocations\n",
    "print(hp.heap())"
   ]
  },
  {
   "cell_type": "code",
   "execution_count": null,
   "metadata": {},
   "outputs": [],
   "source": [
    "!python arrays.py"
   ]
  },
  {
   "cell_type": "code",
   "execution_count": null,
   "metadata": {},
   "outputs": [],
   "source": [
    "dict_list = [{'x': 1.0*i, 'y': 2.5*i} for i in range(100000)]"
   ]
  },
  {
   "cell_type": "code",
   "execution_count": null,
   "metadata": {},
   "outputs": [],
   "source": [
    "sys.getsizeof(dict_list[0])"
   ]
  },
  {
   "cell_type": "code",
   "execution_count": null,
   "metadata": {},
   "outputs": [],
   "source": [
    "sys.getsizeof(dict_list[0]) + 2 * sys.getsizeof(1.0)"
   ]
  },
  {
   "cell_type": "code",
   "execution_count": null,
   "metadata": {},
   "outputs": [],
   "source": [
    "XY_namedtuple = collections.namedtuple('XY', ['x', 'y'])\n",
    "namedtuple_list = [XY_namedtuple(1.0*i, 2.5*i) for i in range(100000)]"
   ]
  },
  {
   "cell_type": "code",
   "execution_count": null,
   "metadata": {},
   "outputs": [],
   "source": [
    "sys.getsizeof(namedtuple_list[0])"
   ]
  },
  {
   "cell_type": "code",
   "execution_count": null,
   "metadata": {},
   "outputs": [],
   "source": [
    "@dataclass\n",
    "class XY_dataclass:\n",
    "    __slots__ = ('x', 'y')\n",
    "    x: float\n",
    "    y: float"
   ]
  },
  {
   "cell_type": "code",
   "execution_count": null,
   "metadata": {},
   "outputs": [],
   "source": [
    "dataclass_list = [XY_dataclass(1.0*i, 2.5*i) for i in range(100000)]"
   ]
  },
  {
   "cell_type": "code",
   "execution_count": null,
   "metadata": {},
   "outputs": [],
   "source": [
    "sys.getsizeof(dataclass_list[0])"
   ]
  },
  {
   "cell_type": "code",
   "execution_count": null,
   "metadata": {},
   "outputs": [],
   "source": [
    "pandas_dataframe = pd.DataFrame({'x': 1.0*i, 'y': 2.5*i} for i in range(100000))"
   ]
  },
  {
   "cell_type": "code",
   "execution_count": null,
   "metadata": {},
   "outputs": [],
   "source": [
    "pandas_dataframe._data"
   ]
  },
  {
   "cell_type": "code",
   "execution_count": null,
   "metadata": {},
   "outputs": [],
   "source": [
    "sys.getsizeof(pandas_dataframe)"
   ]
  },
  {
   "cell_type": "code",
   "execution_count": null,
   "metadata": {},
   "outputs": [],
   "source": [
    "%%file records.py\n",
    "\n",
    "import collections\n",
    "from dataclasses import dataclass\n",
    "\n",
    "import pandas as pd\n",
    "import guppy\n",
    "\n",
    "hp = guppy.hpy()\n",
    "\n",
    "hp.setrelheap()\n",
    "dict_list = [{'x': 1.0*i, 'y': 2.5*i} for i in range(100000)]\n",
    "print(hp.heap())\n",
    "\n",
    "hp.setrelheap()\n",
    "XY_namedtuple = collections.namedtuple('XY', ['x', 'y'])\n",
    "namedtuple_list = [XY_namedtuple(1.0*i, 2.5*i) for i in range(100000)]\n",
    "print(); print(hp.heap())\n",
    "\n",
    "hp.setrelheap()\n",
    "@dataclass\n",
    "class XY_dataclass:\n",
    "    __slots__= ('x', 'y')\n",
    "    x: float\n",
    "    y: float\n",
    "dataclass_list = [XY_dataclass(1.0*i, 2.5*i) for i in range(100000)]\n",
    "print(); print(hp.heap())\n",
    "\n",
    "hp.setrelheap()\n",
    "pandas_dataframe = pd.DataFrame({'x': 1.0*i, 'y': 2.5*i} for i in range(100000))\n",
    "print(); print(hp.heap())"
   ]
  },
  {
   "cell_type": "code",
   "execution_count": null,
   "metadata": {},
   "outputs": [],
   "source": [
    "!python records.py"
   ]
  },
  {
   "cell_type": "code",
   "execution_count": null,
   "metadata": {},
   "outputs": [],
   "source": []
  }
 ],
 "metadata": {
  "anaconda-cloud": {},
  "kernelspec": {
   "display_name": "Python 3",
   "language": "python",
   "name": "python3"
  },
  "language_info": {
   "codemirror_mode": {
    "name": "ipython",
    "version": 3
   },
   "file_extension": ".py",
   "mimetype": "text/x-python",
   "name": "python",
   "nbconvert_exporter": "python",
   "pygments_lexer": "ipython3",
   "version": "3.7.6"
  }
 },
 "nbformat": 4,
 "nbformat_minor": 1
}
