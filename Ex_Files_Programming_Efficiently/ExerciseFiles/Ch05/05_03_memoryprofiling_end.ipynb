{
 "cells": [
  {
   "cell_type": "markdown",
   "metadata": {},
   "source": [
    "## 05_03: memory profiling"
   ]
  },
  {
   "cell_type": "code",
   "execution_count": 1,
   "metadata": {},
   "outputs": [],
   "source": [
    "import sys\n",
    "import collections\n",
    "\n",
    "import numpy as np\n",
    "import pandas as pd\n",
    "\n",
    "import guppy # get guppy for Python 3 with \"pip install guppy3\" "
   ]
  },
  {
   "cell_type": "code",
   "execution_count": 2,
   "metadata": {},
   "outputs": [],
   "source": [
    "vector_list = [float(i) for i in range(1000000)]"
   ]
  },
  {
   "cell_type": "code",
   "execution_count": 3,
   "metadata": {},
   "outputs": [],
   "source": [
    "vector_np = np.arange(0, 1000000, dtype='d')"
   ]
  },
  {
   "cell_type": "code",
   "execution_count": 4,
   "metadata": {},
   "outputs": [
    {
     "data": {
      "text/plain": [
       "24"
      ]
     },
     "execution_count": 4,
     "metadata": {},
     "output_type": "execute_result"
    }
   ],
   "source": [
    "sys.getsizeof(1.0)"
   ]
  },
  {
   "cell_type": "code",
   "execution_count": 5,
   "metadata": {},
   "outputs": [
    {
     "data": {
      "text/plain": [
       "32697472"
      ]
     },
     "execution_count": 5,
     "metadata": {},
     "output_type": "execute_result"
    }
   ],
   "source": [
    "sys.getsizeof(vector_list) + 1000000 * sys.getsizeof(1.0)"
   ]
  },
  {
   "cell_type": "code",
   "execution_count": 6,
   "metadata": {},
   "outputs": [
    {
     "data": {
      "text/plain": [
       "8000096"
      ]
     },
     "execution_count": 6,
     "metadata": {},
     "output_type": "execute_result"
    }
   ],
   "source": [
    "sys.getsizeof(vector_np)"
   ]
  },
  {
   "cell_type": "code",
   "execution_count": 7,
   "metadata": {},
   "outputs": [
    {
     "name": "stdout",
     "output_type": "stream",
     "text": [
      "Writing arrays.py\n"
     ]
    }
   ],
   "source": [
    "%%file arrays.py\n",
    "\n",
    "import numpy as np\n",
    "import guppy\n",
    "\n",
    "# initialize the guppy environment\n",
    "hp = guppy.hpy()\n",
    "\n",
    "# set reference point\n",
    "hp.setrelheap()\n",
    "\n",
    "# run memory-consuming operations\n",
    "vector_list = [float(i) for i in range(1000000)]\n",
    "vector_np = np.arange(0, 1000000, dtype='d')\n",
    "\n",
    "# get a snapshot of heap allocations\n",
    "print(hp.heap())"
   ]
  },
  {
   "cell_type": "code",
   "execution_count": 8,
   "metadata": {},
   "outputs": [
    {
     "name": "stdout",
     "output_type": "stream",
     "text": [
      "Partition of a set of 1000003 objects. Total size = 40697992 bytes.\r\n",
      " Index  Count   %     Size   % Cumulative  % Kind (class / dict of class)\r\n",
      "     0 1000000 100 24000000  59  24000000  59 float\r\n",
      "     1      1   0  8697472  21  32697472  80 list\r\n",
      "     2      1   0  8000096  20  40697568 100 numpy.ndarray\r\n",
      "     3      1   0      424   0  40697992 100 types.FrameType\r\n"
     ]
    }
   ],
   "source": [
    "!python arrays.py"
   ]
  },
  {
   "cell_type": "code",
   "execution_count": 9,
   "metadata": {},
   "outputs": [],
   "source": [
    "dict_list = [{'x': 1.0*i, 'y': 2.5*i} for i in range(100000)]"
   ]
  },
  {
   "cell_type": "code",
   "execution_count": 10,
   "metadata": {},
   "outputs": [
    {
     "data": {
      "text/plain": [
       "248"
      ]
     },
     "execution_count": 10,
     "metadata": {},
     "output_type": "execute_result"
    }
   ],
   "source": [
    "sys.getsizeof(dict_list[0])"
   ]
  },
  {
   "cell_type": "code",
   "execution_count": 11,
   "metadata": {},
   "outputs": [
    {
     "data": {
      "text/plain": [
       "296"
      ]
     },
     "execution_count": 11,
     "metadata": {},
     "output_type": "execute_result"
    }
   ],
   "source": [
    "sys.getsizeof(dict_list[0]) + 2 * sys.getsizeof(1.0)"
   ]
  },
  {
   "cell_type": "code",
   "execution_count": 12,
   "metadata": {},
   "outputs": [],
   "source": [
    "XY_namedtuple = collections.namedtuple('XY', ['x', 'y'])\n",
    "namedtuple_list = [XY_namedtuple(1.0*i, 2.5*i) for i in range(100000)]"
   ]
  },
  {
   "cell_type": "code",
   "execution_count": 13,
   "metadata": {},
   "outputs": [
    {
     "data": {
      "text/plain": [
       "72"
      ]
     },
     "execution_count": 13,
     "metadata": {},
     "output_type": "execute_result"
    }
   ],
   "source": [
    "sys.getsizeof(namedtuple_list[0])"
   ]
  },
  {
   "cell_type": "code",
   "execution_count": 15,
   "metadata": {},
   "outputs": [],
   "source": [
    "from dataclasses import dataclass"
   ]
  },
  {
   "cell_type": "code",
   "execution_count": 16,
   "metadata": {},
   "outputs": [],
   "source": [
    "@dataclass\n",
    "class XY_dataclass:\n",
    "    __slots__ = ('x', 'y')\n",
    "    x: float\n",
    "    y: float"
   ]
  },
  {
   "cell_type": "code",
   "execution_count": 17,
   "metadata": {},
   "outputs": [],
   "source": [
    "dataclass_list = [XY_dataclass(1.0*i, 2.5*i) for i in range(100000)]"
   ]
  },
  {
   "cell_type": "code",
   "execution_count": 18,
   "metadata": {},
   "outputs": [
    {
     "data": {
      "text/plain": [
       "64"
      ]
     },
     "execution_count": 18,
     "metadata": {},
     "output_type": "execute_result"
    }
   ],
   "source": [
    "sys.getsizeof(dataclass_list[0])"
   ]
  },
  {
   "cell_type": "code",
   "execution_count": 19,
   "metadata": {},
   "outputs": [],
   "source": [
    "pandas_dataframe = pd.DataFrame({'x': 1.0*i, 'y': 2.5*i} for i in range(100000))"
   ]
  },
  {
   "cell_type": "code",
   "execution_count": 20,
   "metadata": {},
   "outputs": [
    {
     "data": {
      "text/plain": [
       "BlockManager\n",
       "Items: Index(['x', 'y'], dtype='object')\n",
       "Axis 1: RangeIndex(start=0, stop=100000, step=1)\n",
       "FloatBlock: slice(0, 2, 1), 2 x 100000, dtype: float64"
      ]
     },
     "execution_count": 20,
     "metadata": {},
     "output_type": "execute_result"
    }
   ],
   "source": [
    "pandas_dataframe._data"
   ]
  },
  {
   "cell_type": "code",
   "execution_count": 21,
   "metadata": {},
   "outputs": [
    {
     "data": {
      "text/plain": [
       "1600160"
      ]
     },
     "execution_count": 21,
     "metadata": {},
     "output_type": "execute_result"
    }
   ],
   "source": [
    "sys.getsizeof(pandas_dataframe)"
   ]
  },
  {
   "cell_type": "code",
   "execution_count": 22,
   "metadata": {},
   "outputs": [
    {
     "name": "stdout",
     "output_type": "stream",
     "text": [
      "Writing records.py\n"
     ]
    }
   ],
   "source": [
    "%%file records.py\n",
    "\n",
    "import collections\n",
    "from dataclasses import dataclass\n",
    "\n",
    "import pandas as pd\n",
    "import guppy\n",
    "\n",
    "hp = guppy.hpy()\n",
    "\n",
    "hp.setrelheap()\n",
    "dict_list = [{'x': 1.0*i, 'y': 2.5*i} for i in range(100000)]\n",
    "print(hp.heap())\n",
    "\n",
    "hp.setrelheap()\n",
    "XY_namedtuple = collections.namedtuple('XY', ['x', 'y'])\n",
    "namedtuple_list = [XY_namedtuple(1.0*i, 2.5*i) for i in range(100000)]\n",
    "print(); print(hp.heap())\n",
    "\n",
    "hp.setrelheap()\n",
    "@dataclass\n",
    "class XY_dataclass:\n",
    "    __slots__= ('x', 'y')\n",
    "    x: float\n",
    "    y: float\n",
    "dataclass_list = [XY_dataclass(1.0*i, 2.5*i) for i in range(100000)]\n",
    "print(); print(hp.heap())\n",
    "\n",
    "hp.setrelheap()\n",
    "pandas_dataframe = pd.DataFrame({'x': 1.0*i, 'y': 2.5*i} for i in range(100000))\n",
    "print(); print(hp.heap())"
   ]
  },
  {
   "cell_type": "code",
   "execution_count": 23,
   "metadata": {},
   "outputs": [
    {
     "name": "stdout",
     "output_type": "stream",
     "text": [
      "Partition of a set of 300002 objects. Total size = 30424896 bytes.\n",
      " Index  Count   %     Size   % Cumulative  % Kind (class / dict of class)\n",
      "     0 100000  33 24800000  82  24800000  82 dict (no owner)\n",
      "     1 200000  67  4800000  16  29600000  97 float\n",
      "     2      1   0   824472   3  30424472 100 list\n",
      "     3      1   0      424   0  30424896 100 types.FrameType\n",
      "\n",
      "Partition of a set of 300046 objects. Total size = 12830167 bytes.\n",
      " Index  Count   %     Size   % Cumulative  % Kind (class / dict of class)\n",
      "     0 100000  33  7200000  56   7200000  56 __main__.XY\n",
      "     1 200000  67  4800000  37  12000000  94 float\n",
      "     2      1   0   824472   6  12824472 100 list\n",
      "     3      1   0      896   0  12825368 100 type\n",
      "     4      6   0      864   0  12826232 100 function\n",
      "     5     12   0      832   0  12827064 100 str\n",
      "     6      1   0      656   0  12827720 100 dict of type\n",
      "     7      9   0      632   0  12828352 100 tuple\n",
      "     8      2   0      496   0  12828848 100 dict (no owner)\n",
      "     9      1   0      424   0  12829272 100 types.FrameType\n",
      "<8 more rows. Type e.g. '_.more' to view.>\n",
      "\n",
      "Partition of a set of 300052 objects. Total size = 12031600 bytes.\n",
      " Index  Count   %     Size   % Cumulative  % Kind (class / dict of class)\n",
      "     0 100000  33  6400000  53   6400000  53 __main__.XY_dataclass\n",
      "     1 200000  67  4800000  40  11200000  93 float\n",
      "     2      1   0   824472   7  12024472 100 list\n",
      "     3      4   0      992   0  12025464 100 dict (no owner)\n",
      "     4     13   0      960   0  12026424 100 tuple\n",
      "     5      1   0      896   0  12027320 100 type\n",
      "     6      1   0      656   0  12027976 100 dict of type\n",
      "     7      4   0      576   0  12028552 100 function\n",
      "     8      2   0      496   0  12029048 100 dict of function\n",
      "     9      3   0      432   0  12029480 100 types.CodeType\n",
      "<10 more rows. Type e.g. '_.more' to view.>\n",
      "\n",
      "Partition of a set of 25 objects. Total size = 3203155 bytes.\n",
      " Index  Count   %     Size   % Cumulative  % Kind (class / dict of class)\n",
      "     0      5  20  1600560  50   1600560  50 numpy.ndarray\n",
      "     1      1   4  1600160  50   3200720 100 pandas.core.frame.DataFrame\n",
      "     2      2   8      496   0   3201216 100 dict (no owner)\n",
      "     3      1   4      424   0   3201640 100 types.FrameType\n",
      "     4      1   4      244   0   3201884 100 pandas.core.indexes.base.Index\n",
      "     5      1   4      160   0   3202044 100 pandas.core.indexes.range.RangeIndex\n",
      "     6      1   4      128   0   3202172 100 pandas.core.internals.managers.BlockManager\n",
      "     7      2   8      127   0   3202299 100 str\n",
      "     8      1   4      120   0   3202419 100 dict of pandas.core.frame.DataFrame\n",
      "     9      1   4      120   0   3202539 100 dict of pandas.core.indexes.base.Index\n",
      "<8 more rows. Type e.g. '_.more' to view.>\n"
     ]
    }
   ],
   "source": [
    "!python records.py"
   ]
  },
  {
   "cell_type": "code",
   "execution_count": null,
   "metadata": {},
   "outputs": [],
   "source": []
  }
 ],
 "metadata": {
  "anaconda-cloud": {},
  "kernelspec": {
   "display_name": "Python 3",
   "language": "python",
   "name": "python3"
  },
  "language_info": {
   "codemirror_mode": {
    "name": "ipython",
    "version": 3
   },
   "file_extension": ".py",
   "mimetype": "text/x-python",
   "name": "python",
   "nbconvert_exporter": "python",
   "pygments_lexer": "ipython3",
   "version": "3.7.6"
  }
 },
 "nbformat": 4,
 "nbformat_minor": 1
}
