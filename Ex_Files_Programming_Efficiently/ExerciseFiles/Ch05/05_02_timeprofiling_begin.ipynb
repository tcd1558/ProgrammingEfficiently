{
 "cells": [
  {
   "cell_type": "markdown",
   "metadata": {},
   "source": [
    "## 05_02: Time profiling"
   ]
  },
  {
   "cell_type": "code",
   "execution_count": null,
   "metadata": {},
   "outputs": [],
   "source": [
    "import numpy as np\n",
    "\n",
    "import matplotlib\n",
    "import matplotlib.pyplot as pp"
   ]
  },
  {
   "cell_type": "code",
   "execution_count": null,
   "metadata": {},
   "outputs": [],
   "source": [
    "def run_mandel(extent=(-2.0,1.0,-1.5,1.5), res=256, maxit=256):\n",
    "    xs = np.linspace(extent[0], extent[1], res)  # x and y arrays,\n",
    "    ys = np.linspace(extent[2], extent[3], res)  # equally spaced\n",
    "    \n",
    "    escaped = np.zeros((res,res), np.float64)  # escape status of points\n",
    "    \n",
    "    # loop over region in complex plane\n",
    "    for i in range(res):\n",
    "        for j in range(res):\n",
    "            c = xs[i] + 1j * ys[j]  # build complex number\n",
    "            escaped[i,j] = compute_mandel(c, maxit)  # call iteration\n",
    "    \n",
    "    return escaped / maxit  # normalize for better plotting"
   ]
  },
  {
   "cell_type": "code",
   "execution_count": null,
   "metadata": {},
   "outputs": [],
   "source": [
    "def compute_mandel(c, maxit=256):\n",
    "    z = 0.0j\n",
    "\n",
    "    for it in range(1, maxit):\n",
    "        z = z*z + c\n",
    "        \n",
    "        if abs(z) > 2.0:\n",
    "            return it\n",
    "\n",
    "    # if we have not escaped in maxit iterations, assume we'll never do\n",
    "    return np.inf"
   ]
  },
  {
   "cell_type": "code",
   "execution_count": null,
   "metadata": {},
   "outputs": [],
   "source": [
    "def plot_mandel(array):\n",
    "    pp.figure(figsize=(6,6))\n",
    "\n",
    "    cmap = matplotlib.cm.coolwarm\n",
    "    cmap.set_bad('k')\n",
    "\n",
    "    pp.imshow(array.T, cmap=cmap, norm=matplotlib.colors.PowerNorm(0.6), \n",
    "              interpolation='none', origin='lower')"
   ]
  },
  {
   "cell_type": "code",
   "execution_count": null,
   "metadata": {},
   "outputs": [],
   "source": [
    "plot_mandel(run_mandel())"
   ]
  },
  {
   "cell_type": "code",
   "execution_count": null,
   "metadata": {},
   "outputs": [],
   "source": [
    "%timeit run_mandel()"
   ]
  },
  {
   "cell_type": "code",
   "execution_count": null,
   "metadata": {},
   "outputs": [],
   "source": [
    "%prun -s cumulative run_mandel()"
   ]
  },
  {
   "cell_type": "code",
   "execution_count": null,
   "metadata": {},
   "outputs": [],
   "source": [
    "%load_ext line_profiler"
   ]
  },
  {
   "cell_type": "code",
   "execution_count": null,
   "metadata": {},
   "outputs": [],
   "source": [
    "%lprun -f compute_mandel run_mandel()"
   ]
  },
  {
   "cell_type": "code",
   "execution_count": null,
   "metadata": {},
   "outputs": [],
   "source": [
    "def run_mandel_numpy(extent=(-2.0,1.0,-1.5,1.5), res=256, maxit=256):\n",
    "    # as before\n",
    "    xs = np.linspace(extent[0], extent[1], res)\n",
    "    ys = np.linspace(extent[2], extent[3], res)\n",
    "    \n",
    "    # escape status of points; start them out at infinity\n",
    "    escaped = np.full((res,res), np.inf, np.float64)\n",
    "    \n",
    "    # prepare complex values across array\n",
    "    c = xs[:,np.newaxis] + 1j*ys[np.newaxis,:]\n",
    "    z = np.zeros_like(c, 'complex128')\n",
    "    \n",
    "    for it in range(1, maxit):\n",
    "        # the Mandelbrot formula!\n",
    "        z = z*z + c\n",
    "        \n",
    "        # save iteration number for newly escaped points\n",
    "        escaped[(escaped == np.inf) & (np.abs(z) > 2.0)] = it\n",
    "    \n",
    "    return escaped / maxit"
   ]
  },
  {
   "cell_type": "code",
   "execution_count": null,
   "metadata": {},
   "outputs": [],
   "source": [
    "np.seterr(over='ignore', invalid='ignore')"
   ]
  },
  {
   "cell_type": "code",
   "execution_count": null,
   "metadata": {},
   "outputs": [],
   "source": [
    "plot_mandel(run_mandel_numpy())"
   ]
  },
  {
   "cell_type": "code",
   "execution_count": null,
   "metadata": {},
   "outputs": [],
   "source": [
    "%timeit run_mandel_numpy()"
   ]
  },
  {
   "cell_type": "code",
   "execution_count": null,
   "metadata": {},
   "outputs": [],
   "source": [
    "%lprun -f run_mandel_numpy run_mandel_numpy()"
   ]
  },
  {
   "cell_type": "code",
   "execution_count": null,
   "metadata": {},
   "outputs": [],
   "source": [
    "from numba.decorators import jit"
   ]
  },
  {
   "cell_type": "code",
   "execution_count": null,
   "metadata": {},
   "outputs": [],
   "source": [
    "@jit\n",
    "def run_mandel_numba(extent=(-2.0,1.0,-1.5,1.5), res=256, maxit=256):\n",
    "    xs = np.linspace(extent[0], extent[1], res)\n",
    "    ys = np.linspace(extent[2], extent[3], res)\n",
    "    \n",
    "    escaped = np.zeros((res,res), np.float64)\n",
    "    \n",
    "    for i in range(res):\n",
    "        for j in range(res):\n",
    "            c = xs[i] + 1j * ys[j]\n",
    "            escaped[i,j] = compute_mandel_numba(c, maxit)\n",
    "    \n",
    "    return escaped / maxit\n",
    "\n",
    "@jit\n",
    "def compute_mandel_numba(c, maxit=256):\n",
    "    z = 0.0j\n",
    "\n",
    "    for it in range(1, maxit):\n",
    "        z = z*z + c\n",
    "        \n",
    "        if abs(z) > 2.0:\n",
    "            return it\n",
    "\n",
    "    return np.inf"
   ]
  },
  {
   "cell_type": "code",
   "execution_count": null,
   "metadata": {},
   "outputs": [],
   "source": [
    "%timeit run_mandel_numba()"
   ]
  },
  {
   "cell_type": "code",
   "execution_count": null,
   "metadata": {},
   "outputs": [],
   "source": [
    "import ipywidgets"
   ]
  },
  {
   "cell_type": "code",
   "execution_count": null,
   "metadata": {},
   "outputs": [],
   "source": [
    "def plot_zoomed(zoom):\n",
    "    pp.figure(figsize=(6,6))\n",
    "    \n",
    "    cmap = matplotlib.cm.coolwarm\n",
    "    cmap.set_bad('k')\n",
    "    \n",
    "    # center the zoom at an interesting point;\n",
    "    # increase iterations and resolutions to see better\n",
    "    array = run_mandel_numba(extent=(-0.75 - 1.5/zoom, -0.75 + 1.5/zoom, 0.1 - 1.5/zoom, 0.1 + 1.5/zoom),\n",
    "                             maxit=512, res=512)\n",
    "    \n",
    "    pp.imshow(array.T, cmap=cmap, norm=matplotlib.colors.PowerNorm(0.6), \n",
    "              interpolation='none', origin='lower')"
   ]
  },
  {
   "cell_type": "code",
   "execution_count": null,
   "metadata": {},
   "outputs": [],
   "source": [
    "ipywidgets.interact(plot_zoomed,\n",
    "                    zoom=ipywidgets.FloatSlider(min=1, max=200, step=0.05, value=1, continuous_update=False))"
   ]
  },
  {
   "cell_type": "code",
   "execution_count": null,
   "metadata": {},
   "outputs": [],
   "source": []
  }
 ],
 "metadata": {
  "anaconda-cloud": {},
  "kernelspec": {
   "display_name": "Python 3",
   "language": "python",
   "name": "python3"
  },
  "language_info": {
   "codemirror_mode": {
    "name": "ipython",
    "version": 3
   },
   "file_extension": ".py",
   "mimetype": "text/x-python",
   "name": "python",
   "nbconvert_exporter": "python",
   "pygments_lexer": "ipython3",
   "version": "3.7.6"
  }
 },
 "nbformat": 4,
 "nbformat_minor": 2
}
