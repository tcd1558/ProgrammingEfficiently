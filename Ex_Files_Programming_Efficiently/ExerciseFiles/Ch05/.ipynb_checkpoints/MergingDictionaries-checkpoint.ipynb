{
 "cells": [
  {
   "cell_type": "markdown",
   "id": "515dd818",
   "metadata": {},
   "source": [
    "# Performance analysis of merging dictionaries"
   ]
  },
  {
   "cell_type": "markdown",
   "id": "c0a0c3b5",
   "metadata": {},
   "source": [
    "https://favtutor.com/blogs/merge-dictionaries-python"
   ]
  },
  {
   "cell_type": "markdown",
   "id": "28e93135",
   "metadata": {},
   "source": [
    "There are several solutions on how to merge a dictionary:\n",
    "\n",
    "1) The update method   \n",
    "2) The pipe (|)   \n",
    "3) Using \\*\\*  \n",
    "4) Unpacking the second dictionary   \n",
    "5) The methon collection.ChainMap()   \n",
    "6) Itertools.chain()   \n",
    "7) Dictionary comprehensive   \n",
    "8) Adding values of common keys   "
   ]
  },
  {
   "cell_type": "markdown",
   "id": "8bf81cba",
   "metadata": {},
   "source": [
    "## Preparing a set of dictionaries"
   ]
  },
  {
   "cell_type": "code",
   "execution_count": 2,
   "id": "70a39598",
   "metadata": {},
   "outputs": [],
   "source": [
    "import sys \n",
    "import os"
   ]
  },
  {
   "cell_type": "code",
   "execution_count": null,
   "id": "f20872c6",
   "metadata": {
    "collapsed": true
   },
   "outputs": [],
   "source": []
  },
  {
   "cell_type": "code",
   "execution_count": 3,
   "id": "b032f756",
   "metadata": {},
   "outputs": [
    {
     "ename": "NameError",
     "evalue": "name 'Ch05' is not defined",
     "output_type": "error",
     "traceback": [
      "\u001b[0;31m---------------------------------------------------------------------------\u001b[0m",
      "\u001b[0;31mNameError\u001b[0m                                 Traceback (most recent call last)",
      "Input \u001b[0;32mIn [3]\u001b[0m, in \u001b[0;36m<cell line: 1>\u001b[0;34m()\u001b[0m\n\u001b[0;32m----> 1\u001b[0m os\u001b[38;5;241m.\u001b[39mchdir(\u001b[43mCh05\u001b[49m)\n\u001b[1;32m      2\u001b[0m sonnetfiles\u001b[38;5;241m=\u001b[39mos\u001b[38;5;241m.\u001b[39mlistdir(\u001b[38;5;124m'\u001b[39m\u001b[38;5;124msonnets\u001b[39m\u001b[38;5;124m'\u001b[39m)\n",
      "\u001b[0;31mNameError\u001b[0m: name 'Ch05' is not defined"
     ]
    }
   ],
   "source": [
    "os.chdir(Ch05)\n",
    "sonnetfiles=os.listdir('sonnets')"
   ]
  },
  {
   "cell_type": "code",
   "execution_count": 3,
   "id": "505f49e5",
   "metadata": {},
   "outputs": [],
   "source": [
    "def process_file(file):\n",
    "    proc_dict={}\n",
    "    with open(\"sonnets/\"+file) as f:\n",
    "        for lineno, line in enumerate(f):\n",
    "            for word in line.split():\n",
    "                # strip punctuation, quotes, ..\n",
    "                clean_word = word.strip(',.:;\\'?').lower()\n",
    "                location = file + '/' + str(lineno+1)\n",
    "                #print(clean_word, location)\n",
    "                if clean_word not in proc_dict:\n",
    "                    proc_dict[clean_word] = [location]\n",
    "                else:\n",
    "                    proc_dict[clean_word].append(location)\n",
    "    return proc_dict"
   ]
  },
  {
   "cell_type": "code",
   "execution_count": 4,
   "id": "a5ec291e",
   "metadata": {},
   "outputs": [
    {
     "name": "stdout",
     "output_type": "stream",
     "text": [
      "dictionary 0:\n",
      " {'whoever': ['CXXXV.txt/1'], 'hath': ['CXXXV.txt/1'], 'her': ['CXXXV.txt/1'], 'wish': ['CXXXV.txt/1'], 'thou': ['CXXXV.txt/1', 'CXXXV.txt/5', 'CXXXV.txt/11'], 'hast': ['CXXXV.txt/1'], 'thy': ['CXXXV.txt/1', 'CXXXV.txt/4', 'CXXXV.txt/11', 'CXXXV.txt/12'], 'will': ['CXXXV.txt/1', 'CXXXV.txt/2', 'CXXXV.txt/2', 'CXXXV.txt/4', 'CXXXV.txt/5', 'CXXXV.txt/6', 'CXXXV.txt/7', 'CXXXV.txt/8', 'CXXXV.txt/11', 'CXXXV.txt/11', 'CXXXV.txt/12', 'CXXXV.txt/12', 'CXXXV.txt/14'], 'and': ['CXXXV.txt/2', 'CXXXV.txt/2', 'CXXXV.txt/5', 'CXXXV.txt/8', 'CXXXV.txt/10', 'CXXXV.txt/14'], 'to': ['CXXXV.txt/2', 'CXXXV.txt/4', 'CXXXV.txt/6', 'CXXXV.txt/10', 'CXXXV.txt/11', 'CXXXV.txt/12'], 'boot': ['CXXXV.txt/2'], 'in': ['CXXXV.txt/2', 'CXXXV.txt/6', 'CXXXV.txt/7', 'CXXXV.txt/8', 'CXXXV.txt/10', 'CXXXV.txt/11', 'CXXXV.txt/14'], 'overplus': ['CXXXV.txt/2'], 'more': ['CXXXV.txt/3', 'CXXXV.txt/12'], 'than': ['CXXXV.txt/3'], 'enough': ['CXXXV.txt/3'], 'am': ['CXXXV.txt/3'], 'i': ['CXXXV.txt/3'], 'that': ['CXXXV.txt/3', 'CXXXV.txt/14'], 'vex': ['CXXXV.txt/3'], 'thee': ['CXXXV.txt/3'], 'still': ['CXXXV.txt/3', 'CXXXV.txt/9'], 'sweet': ['CXXXV.txt/4'], 'making': ['CXXXV.txt/4'], 'addition': ['CXXXV.txt/4'], 'thus': ['CXXXV.txt/4'], 'wilt': ['CXXXV.txt/5'], 'whose': ['CXXXV.txt/5'], 'is': ['CXXXV.txt/5'], 'large': ['CXXXV.txt/5', 'CXXXV.txt/12'], 'spacious': ['CXXXV.txt/5'], 'not': ['CXXXV.txt/6'], 'once': ['CXXXV.txt/6'], 'vouchsafe': ['CXXXV.txt/6'], 'hide': ['CXXXV.txt/6'], 'my': ['CXXXV.txt/6', 'CXXXV.txt/8'], 'thine': ['CXXXV.txt/6'], 'shall': ['CXXXV.txt/7'], 'others': ['CXXXV.txt/7'], 'seem': ['CXXXV.txt/7'], 'right': ['CXXXV.txt/7'], 'gracious': ['CXXXV.txt/7'], 'no': ['CXXXV.txt/8', 'CXXXV.txt/13', 'CXXXV.txt/13'], 'fair': ['CXXXV.txt/8', 'CXXXV.txt/13'], 'acceptance': ['CXXXV.txt/8'], 'shine': ['CXXXV.txt/8'], 'the': ['CXXXV.txt/9'], 'sea': ['CXXXV.txt/9'], 'all': ['CXXXV.txt/9', 'CXXXV.txt/14'], 'water': ['CXXXV.txt/9'], 'yet': ['CXXXV.txt/9'], 'receives': ['CXXXV.txt/9'], 'rain': ['CXXXV.txt/9'], 'abundance': ['CXXXV.txt/10'], 'addeth': ['CXXXV.txt/10'], 'his': ['CXXXV.txt/10'], 'store': ['CXXXV.txt/10'], 'so': ['CXXXV.txt/11'], 'being': ['CXXXV.txt/11'], 'rich': ['CXXXV.txt/11'], 'add': ['CXXXV.txt/11'], 'one': ['CXXXV.txt/12', 'CXXXV.txt/14', 'CXXXV.txt/14'], 'of': ['CXXXV.txt/12'], 'mine': ['CXXXV.txt/12'], 'make': ['CXXXV.txt/12'], 'let': ['CXXXV.txt/13'], 'unkind': ['CXXXV.txt/13'], 'beseechers': ['CXXXV.txt/13'], 'kill': ['CXXXV.txt/13'], 'think': ['CXXXV.txt/14'], 'but': ['CXXXV.txt/14'], 'me': ['CXXXV.txt/14']}\n",
      "Entry count: 72\n",
      "\n",
      "\n",
      "dictionary 1:\n",
      " {'my': ['CXLVII.txt/1', 'CXLVII.txt/5', 'CXLVII.txt/5', 'CXLVII.txt/11', 'CXLVII.txt/11'], 'love': ['CXLVII.txt/1', 'CXLVII.txt/5'], 'is': ['CXLVII.txt/1', 'CXLVII.txt/8', 'CXLVII.txt/9'], 'as': ['CXLVII.txt/1', 'CXLVII.txt/11', 'CXLVII.txt/14', 'CXLVII.txt/14', 'CXLVII.txt/14', 'CXLVII.txt/14'], 'a': ['CXLVII.txt/1'], 'fever': ['CXLVII.txt/1'], 'longing': ['CXLVII.txt/1'], 'still': ['CXLVII.txt/1'], 'for': ['CXLVII.txt/2', 'CXLVII.txt/13'], 'that': ['CXLVII.txt/2', 'CXLVII.txt/3', 'CXLVII.txt/6'], 'which': ['CXLVII.txt/2', 'CXLVII.txt/3', 'CXLVII.txt/8'], 'longer': ['CXLVII.txt/2'], 'nurseth': ['CXLVII.txt/2'], 'the': ['CXLVII.txt/2', 'CXLVII.txt/3', 'CXLVII.txt/4', 'CXLVII.txt/5', 'CXLVII.txt/12'], 'disease': ['CXLVII.txt/2'], 'feeding': ['CXLVII.txt/3'], 'on': ['CXLVII.txt/3'], 'doth': ['CXLVII.txt/3'], 'preserve': ['CXLVII.txt/3'], 'ill': ['CXLVII.txt/3'], 'uncertain': ['CXLVII.txt/4'], 'sickly': ['CXLVII.txt/4'], 'appetite': ['CXLVII.txt/4'], 'to': ['CXLVII.txt/4', 'CXLVII.txt/5'], 'please': ['CXLVII.txt/4'], 'reason': ['CXLVII.txt/5', 'CXLVII.txt/9'], 'physician': ['CXLVII.txt/5'], 'angry': ['CXLVII.txt/6'], 'his': ['CXLVII.txt/6'], 'prescriptions': ['CXLVII.txt/6'], 'are': ['CXLVII.txt/6', 'CXLVII.txt/11'], 'not': ['CXLVII.txt/6'], 'kept': ['CXLVII.txt/6'], 'hath': ['CXLVII.txt/7'], 'left': ['CXLVII.txt/7'], 'me': ['CXLVII.txt/7'], 'and': ['CXLVII.txt/7', 'CXLVII.txt/10', 'CXLVII.txt/11', 'CXLVII.txt/13'], 'i': ['CXLVII.txt/7', 'CXLVII.txt/9', 'CXLVII.txt/13'], 'desperate': ['CXLVII.txt/7'], 'now': ['CXLVII.txt/7', 'CXLVII.txt/9'], 'approve': ['CXLVII.txt/7'], 'desire': ['CXLVII.txt/8'], 'death': ['CXLVII.txt/8'], 'physic': ['CXLVII.txt/8'], 'did': ['CXLVII.txt/8'], 'except': ['CXLVII.txt/8'], 'past': ['CXLVII.txt/9', 'CXLVII.txt/9'], 'cure': ['CXLVII.txt/9'], 'am': ['CXLVII.txt/9'], 'care': ['CXLVII.txt/9'], 'frantic-mad': ['CXLVII.txt/10'], 'with': ['CXLVII.txt/10'], 'evermore': ['CXLVII.txt/10'], 'unrest': ['CXLVII.txt/10'], 'thoughts': ['CXLVII.txt/11'], 'discourse': ['CXLVII.txt/11'], \"madmen's\": ['CXLVII.txt/11'], 'at': ['CXLVII.txt/12'], 'random': ['CXLVII.txt/12'], 'from': ['CXLVII.txt/12'], 'truth': ['CXLVII.txt/12'], 'vainly': ['CXLVII.txt/12'], \"express'd\": ['CXLVII.txt/12'], 'have': ['CXLVII.txt/13'], 'sworn': ['CXLVII.txt/13'], 'thee': ['CXLVII.txt/13', 'CXLVII.txt/13'], 'fair': ['CXLVII.txt/13'], 'thought': ['CXLVII.txt/13'], 'bright': ['CXLVII.txt/13'], 'who': ['CXLVII.txt/14'], 'art': ['CXLVII.txt/14'], 'black': ['CXLVII.txt/14'], 'hell': ['CXLVII.txt/14'], 'dark': ['CXLVII.txt/14'], 'night': ['CXLVII.txt/14']}\n",
      "Entry count: 75\n",
      "\n",
      "\n",
      "Dictionary keys in dict_list[0] AND dict_list[1]:\n",
      "\n",
      "hath\n",
      "and\n",
      "to\n",
      "am\n",
      "i\n",
      "that\n",
      "thee\n",
      "still\n",
      "is\n",
      "not\n",
      "my\n",
      "fair\n",
      "the\n",
      "his\n",
      "me\n",
      "Entry count: 15\n",
      "\n",
      "Merged dictionary with unique values: 72 + 75 - 15 = 132\n"
     ]
    }
   ],
   "source": [
    "dict_list = []\n",
    "\n",
    "for sonnetfile in sonnetfiles:\n",
    "    dict_list.append(process_file(sonnetfile))\n",
    "    \n",
    "print(\"dictionary 0:\\n\", dict_list[0])\n",
    "print(\"Entry count:\",len(dict_list[0]))\n",
    "print()\n",
    "print()\n",
    "print(\"dictionary 1:\\n\", dict_list[1])\n",
    "print(\"Entry count:\",len(dict_list[1]))\n",
    "print()\n",
    "print()\n",
    "print(\"Dictionary keys in dict_list[0] AND dict_list[1]:\\n\")\n",
    "overlap_count = 0\n",
    "for key in dict_list[0].keys():\n",
    "    if key in dict_list[1]:\n",
    "        overlap_count += 1\n",
    "        print(key)\n",
    "print(\"Entry count:\", overlap_count)\n",
    "print()\n",
    "print(\"Merged dictionary with unique values:\", len(dict_list[0]), \"+\", len(dict_list[1]), \"-\", overlap_count, \"=\", len(dict_list[0])+len(dict_list[1])-overlap_count)"
   ]
  },
  {
   "cell_type": "markdown",
   "id": "d685fc87",
   "metadata": {},
   "source": [
    "## 1. The update method"
   ]
  },
  {
   "cell_type": "code",
   "execution_count": 5,
   "id": "d18ff1fc",
   "metadata": {},
   "outputs": [],
   "source": [
    "def UpdateMerge(dict1, dict2):\n",
    "    mydict = {}\n",
    "    mydict.update(dict1)\n",
    "    mydict.update(dict2)\n",
    "    return mydict\n",
    "    "
   ]
  },
  {
   "cell_type": "code",
   "execution_count": 6,
   "id": "cc0aa3bd",
   "metadata": {},
   "outputs": [
    {
     "name": "stdout",
     "output_type": "stream",
     "text": [
      "2.05 µs ± 24.3 ns per loop (mean ± std. dev. of 7 runs, 100,000 loops each)\n",
      "132\n"
     ]
    }
   ],
   "source": [
    "%timeit UpdateMerge(dict_list[0], dict_list[1])\n",
    "mergedict = UpdateMerge(dict_list[0], dict_list[1])\n",
    "print(len(mergedict))"
   ]
  },
  {
   "cell_type": "markdown",
   "id": "a1fe267f",
   "metadata": {},
   "source": [
    "## 2. The pipe "
   ]
  },
  {
   "cell_type": "code",
   "execution_count": 7,
   "id": "767981bf",
   "metadata": {},
   "outputs": [],
   "source": [
    "def PipeMerge(dict1, dict2):\n",
    "    mydict = dict1 | dict2\n",
    "    return mydict"
   ]
  },
  {
   "cell_type": "code",
   "execution_count": 8,
   "id": "847f5dd1",
   "metadata": {},
   "outputs": [
    {
     "name": "stdout",
     "output_type": "stream",
     "text": [
      "1.37 µs ± 9.56 ns per loop (mean ± std. dev. of 7 runs, 1,000,000 loops each)\n",
      "132\n"
     ]
    }
   ],
   "source": [
    "%timeit PipeMerge(dict_list[0], dict_list[1])\n",
    "mergedict = PipeMerge(dict_list[0], dict_list[1])\n",
    "print(len(mergedict))"
   ]
  },
  {
   "cell_type": "markdown",
   "id": "2e4c84bd",
   "metadata": {},
   "source": [
    "## 3. Using **"
   ]
  },
  {
   "cell_type": "code",
   "execution_count": 9,
   "id": "bb3d9b50",
   "metadata": {},
   "outputs": [],
   "source": [
    "def ExpandMerge(dict1, dict2):\n",
    "    mydict = {**dict1, **dict2}\n",
    "    return mydict"
   ]
  },
  {
   "cell_type": "code",
   "execution_count": 10,
   "id": "1ff068c4",
   "metadata": {},
   "outputs": [
    {
     "name": "stdout",
     "output_type": "stream",
     "text": [
      "2.03 µs ± 30.3 ns per loop (mean ± std. dev. of 7 runs, 100,000 loops each)\n",
      "132\n"
     ]
    }
   ],
   "source": [
    "%timeit mergedict = ExpandMerge(dict_list[0], dict_list[1])\n",
    "print(len(mergedict))"
   ]
  },
  {
   "cell_type": "markdown",
   "id": "ac1712cc",
   "metadata": {},
   "source": [
    "## 4. Unpacking the second dictionaries"
   ]
  },
  {
   "cell_type": "code",
   "execution_count": 11,
   "id": "5ebcec1b",
   "metadata": {},
   "outputs": [],
   "source": [
    "def UnpackMerge(dict1, dict2):\n",
    "    mydict = dict(dict1, **dict2)\n",
    "    return mydict"
   ]
  },
  {
   "cell_type": "code",
   "execution_count": 12,
   "id": "b536d208",
   "metadata": {},
   "outputs": [
    {
     "name": "stdout",
     "output_type": "stream",
     "text": [
      "3.3 µs ± 56.7 ns per loop (mean ± std. dev. of 7 runs, 100,000 loops each)\n",
      "132\n"
     ]
    }
   ],
   "source": [
    "%timeit UnpackMerge(dict_list[0], dict_list[1])\n",
    "mergedict = UnpackMerge(dict_list[0], dict_list[1])\n",
    "print(len(mergedict))"
   ]
  },
  {
   "cell_type": "markdown",
   "id": "609795a7",
   "metadata": {},
   "source": [
    "## 5. The methon collection.ChainMap()"
   ]
  },
  {
   "cell_type": "code",
   "execution_count": 13,
   "id": "7216173c",
   "metadata": {},
   "outputs": [],
   "source": [
    "from collections import ChainMap"
   ]
  },
  {
   "cell_type": "code",
   "execution_count": 14,
   "id": "e1e6b478",
   "metadata": {},
   "outputs": [],
   "source": [
    "def ChainMapMerge(dict1, dict2):\n",
    "    mydict = ChainMap(dict1, dict2)\n",
    "    return mydict"
   ]
  },
  {
   "cell_type": "code",
   "execution_count": 15,
   "id": "8f5379a1",
   "metadata": {},
   "outputs": [
    {
     "name": "stdout",
     "output_type": "stream",
     "text": [
      "245 ns ± 3.29 ns per loop (mean ± std. dev. of 7 runs, 1,000,000 loops each)\n",
      "132\n"
     ]
    }
   ],
   "source": [
    "%timeit ChainMapMerge(dict_list[0], dict_list[1])\n",
    "mergedict = ChainMapMerge(dict_list[0], dict_list[1])\n",
    "print(len(mergedict))"
   ]
  },
  {
   "cell_type": "markdown",
   "id": "ac3652f7",
   "metadata": {},
   "source": [
    "## 6. Itertools.chain()"
   ]
  },
  {
   "cell_type": "code",
   "execution_count": 16,
   "id": "f418bf03",
   "metadata": {},
   "outputs": [],
   "source": [
    "import itertools"
   ]
  },
  {
   "cell_type": "code",
   "execution_count": 17,
   "id": "6e7103da",
   "metadata": {},
   "outputs": [],
   "source": [
    "def IterChainMerge(dict1, dict2):\n",
    "    mydict = dict(itertools.chain(dict1.items(),dict2.items()))\n",
    "    return mydict"
   ]
  },
  {
   "cell_type": "code",
   "execution_count": 18,
   "id": "d125570f",
   "metadata": {},
   "outputs": [
    {
     "name": "stdout",
     "output_type": "stream",
     "text": [
      "3.63 µs ± 62.9 ns per loop (mean ± std. dev. of 7 runs, 100,000 loops each)\n",
      "132\n"
     ]
    }
   ],
   "source": [
    "%timeit IterChainMerge(dict_list[0], dict_list[1])\n",
    "mergedict = IterChainMerge(dict_list[0], dict_list[1])\n",
    "print(len(mergedict))"
   ]
  },
  {
   "cell_type": "markdown",
   "id": "98fdc91e",
   "metadata": {},
   "source": [
    "## 7. Dictionary comprehensive"
   ]
  },
  {
   "cell_type": "code",
   "execution_count": 19,
   "id": "c10a1955",
   "metadata": {},
   "outputs": [],
   "source": [
    "def ComprehensiveMerge(dict1, dict2):\n",
    "    mydict = {k:v for d in (dict1,dict2) for k,v in d.items()}\n",
    "    return mydict"
   ]
  },
  {
   "cell_type": "code",
   "execution_count": 20,
   "id": "1c607ad7",
   "metadata": {},
   "outputs": [
    {
     "name": "stdout",
     "output_type": "stream",
     "text": [
      "5.98 µs ± 65.7 ns per loop (mean ± std. dev. of 7 runs, 100,000 loops each)\n",
      "132\n"
     ]
    }
   ],
   "source": [
    "%timeit ComprehensiveMerge(dict_list[0], dict_list[1])\n",
    "mergedict = ComprehensiveMerge(dict_list[0], dict_list[1])\n",
    "print(len(mergedict))"
   ]
  },
  {
   "cell_type": "markdown",
   "id": "749c12ad",
   "metadata": {},
   "source": [
    "## 8. Adding values of common keys"
   ]
  },
  {
   "cell_type": "code",
   "execution_count": 21,
   "id": "45e061cd",
   "metadata": {},
   "outputs": [],
   "source": [
    "def ListMerge(dict1, dict2):\n",
    "    mydict = {**dict1, **dict2}\n",
    "    for key, value in mydict.items():\n",
    "        if key in dict1 and key in dict2:\n",
    "               mydict[key] = [value , dict1[key]]\n",
    "    return mydict"
   ]
  },
  {
   "cell_type": "code",
   "execution_count": 22,
   "id": "aa711e50",
   "metadata": {},
   "outputs": [
    {
     "name": "stdout",
     "output_type": "stream",
     "text": [
      "7.69 µs ± 129 ns per loop (mean ± std. dev. of 7 runs, 100,000 loops each)\n",
      "132\n"
     ]
    }
   ],
   "source": [
    "%timeit ListMerge(dict_list[0], dict_list[1])\n",
    "mergedict = ListMerge(dict_list[0], dict_list[1])\n",
    "print(len(mergedict))"
   ]
  },
  {
   "cell_type": "code",
   "execution_count": null,
   "id": "cc5f1eca",
   "metadata": {},
   "outputs": [],
   "source": []
  }
 ],
 "metadata": {
  "kernelspec": {
   "display_name": "Python 3 (ipykernel)",
   "language": "python",
   "name": "python3"
  },
  "language_info": {
   "codemirror_mode": {
    "name": "ipython",
    "version": 3
   },
   "file_extension": ".py",
   "mimetype": "text/x-python",
   "name": "python",
   "nbconvert_exporter": "python",
   "pygments_lexer": "ipython3",
   "version": "3.9.12"
  }
 },
 "nbformat": 4,
 "nbformat_minor": 5
}
