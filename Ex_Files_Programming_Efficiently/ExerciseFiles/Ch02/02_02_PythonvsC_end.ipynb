{
 "cells": [
  {
   "cell_type": "markdown",
   "metadata": {},
   "source": [
    "## 02_02: Python vs C"
   ]
  },
  {
   "cell_type": "markdown",
   "metadata": {},
   "source": [
    "Leibniz series: $\\pi/4 = 1 - \\frac{1}{3} + \\frac{1}{5} - \\frac{1}{7} + \\cdots = \\sum_{k=0} \\frac{(-1)^k}{(2k+1)}$"
   ]
  },
  {
   "cell_type": "code",
   "execution_count": 1,
   "metadata": {},
   "outputs": [
    {
     "name": "stdout",
     "output_type": "stream",
     "text": [
      "Overwriting pi.c\n"
     ]
    }
   ],
   "source": [
    "%%file pi.c\n",
    "\n",
    "#include <math.h>\n",
    "#include <stdio.h>\n",
    "\n",
    "int main(int argc,char **argv) {\n",
    "    int k;\n",
    "    double acc = 0.0;\n",
    "    \n",
    "    for(k=0; k<10000; k++) {\n",
    "        acc = acc + pow(-1,k) / (2*k + 1);\n",
    "    }\n",
    "    \n",
    "    acc = 4 * acc;\n",
    "    \n",
    "    printf(\"pi: %.15f\\n\",acc);\n",
    "    \n",
    "    return 0;\n",
    "}"
   ]
  },
  {
   "cell_type": "code",
   "execution_count": 2,
   "metadata": {},
   "outputs": [],
   "source": [
    "!gcc -o makepi pi.c"
   ]
  },
  {
   "cell_type": "code",
   "execution_count": 3,
   "metadata": {},
   "outputs": [
    {
     "name": "stdout",
     "output_type": "stream",
     "text": [
      "pi: 3.141492653590034\r\n"
     ]
    }
   ],
   "source": [
    "!./makepi"
   ]
  },
  {
   "cell_type": "code",
   "execution_count": 5,
   "metadata": {},
   "outputs": [
    {
     "name": "stdout",
     "output_type": "stream",
     "text": [
      "pi: 3.1414926535900345\n"
     ]
    }
   ],
   "source": [
    "acc = 0.0\n",
    "\n",
    "for k in range(10000):\n",
    "    acc = acc + pow(-1,k) / (2*k + 1)\n",
    "\n",
    "acc = 4 * acc\n",
    "\n",
    "print(\"pi:\", acc)"
   ]
  },
  {
   "cell_type": "code",
   "execution_count": 6,
   "metadata": {},
   "outputs": [
    {
     "data": {
      "text/plain": [
       "3.1414926535900345"
      ]
     },
     "execution_count": 6,
     "metadata": {},
     "output_type": "execute_result"
    }
   ],
   "source": [
    "4*sum(pow(-1,k)/(2*k+1) for k in range(10000))"
   ]
  },
  {
   "cell_type": "code",
   "execution_count": null,
   "metadata": {},
   "outputs": [],
   "source": []
  }
 ],
 "metadata": {
  "anaconda-cloud": {},
  "kernelspec": {
   "display_name": "Python 3",
   "language": "python",
   "name": "python3"
  },
  "language_info": {
   "codemirror_mode": {
    "name": "ipython",
    "version": 3
   },
   "file_extension": ".py",
   "mimetype": "text/x-python",
   "name": "python",
   "nbconvert_exporter": "python",
   "pygments_lexer": "ipython3",
   "version": "3.7.6"
  }
 },
 "nbformat": 4,
 "nbformat_minor": 1
}
