{
 "cells": [
  {
   "cell_type": "markdown",
   "metadata": {},
   "source": [
    "## 02_06: Writing Pythonic code"
   ]
  },
  {
   "cell_type": "code",
   "execution_count": null,
   "metadata": {},
   "outputs": [],
   "source": [
    "import collections"
   ]
  },
  {
   "cell_type": "code",
   "execution_count": null,
   "metadata": {},
   "outputs": [],
   "source": [
    "Medal = collections.namedtuple('Medal', ['year','athlete','team','event'])\n",
    "medals = [Medal(*line.strip().split('\\t')) for line in open('goldmedals.txt','r')]"
   ]
  },
  {
   "cell_type": "code",
   "execution_count": null,
   "metadata": {},
   "outputs": [],
   "source": [
    "import this"
   ]
  },
  {
   "cell_type": "code",
   "execution_count": null,
   "metadata": {},
   "outputs": [],
   "source": [
    "athletes = []\n",
    "\n",
    "for medal in medals:\n",
    "    if medal.team == \"USA\" and medal.athlete not in athletes:\n",
    "        athletes.append(medal.athlete)\n",
    "\n",
    "athletes.sort()"
   ]
  },
  {
   "cell_type": "code",
   "execution_count": null,
   "metadata": {},
   "outputs": [],
   "source": [
    "athletes[:10]"
   ]
  },
  {
   "cell_type": "code",
   "execution_count": null,
   "metadata": {},
   "outputs": [],
   "source": [
    "athletes = sorted({medal.athlete for medal in medals if medal.team == \"USA\"})"
   ]
  },
  {
   "cell_type": "code",
   "execution_count": null,
   "metadata": {},
   "outputs": [],
   "source": [
    "athletes[:10]"
   ]
  },
  {
   "cell_type": "code",
   "execution_count": null,
   "metadata": {},
   "outputs": [],
   "source": [
    "winners_100m = {medal.athlete for medal in medals if '100m' in medal.event}\n",
    "winners_200m = {medal.athlete for medal in medals if '200m' in medal.event}"
   ]
  },
  {
   "cell_type": "code",
   "execution_count": null,
   "metadata": {},
   "outputs": [],
   "source": [
    "winners_100m"
   ]
  },
  {
   "cell_type": "code",
   "execution_count": null,
   "metadata": {},
   "outputs": [],
   "source": [
    "winners_both = {athlete for athlete in winners_100m if athlete in winners_200m}"
   ]
  },
  {
   "cell_type": "code",
   "execution_count": null,
   "metadata": {},
   "outputs": [],
   "source": [
    "winners_both"
   ]
  },
  {
   "cell_type": "code",
   "execution_count": null,
   "metadata": {},
   "outputs": [],
   "source": [
    "winners_100m & winners_200m"
   ]
  },
  {
   "cell_type": "code",
   "execution_count": null,
   "metadata": {},
   "outputs": [],
   "source": [
    "winners_100m | winners_200m"
   ]
  },
  {
   "cell_type": "code",
   "execution_count": null,
   "metadata": {},
   "outputs": [],
   "source": [
    "winners_100m - winners_200m"
   ]
  },
  {
   "cell_type": "code",
   "execution_count": null,
   "metadata": {},
   "outputs": [],
   "source": [
    "for medal in medals:\n",
    "    if medal.event.startswith('400m') and int(medal.year) >= 2010:\n",
    "        print('In %s, %s won for %s.' % (medal.year, medal.athlete, medal.team))"
   ]
  },
  {
   "cell_type": "code",
   "execution_count": null,
   "metadata": {},
   "outputs": [],
   "source": [
    "for medal in medals:\n",
    "    if medal.event.startswith('400m') and int(medal.year) >= 2010:\n",
    "        print('In {year}, {athlete} won for {team}.'.format(year=medal.year, athlete=medal.athlete, team=medal.team))"
   ]
  },
  {
   "cell_type": "code",
   "execution_count": null,
   "metadata": {},
   "outputs": [],
   "source": [
    "for medal in medals:\n",
    "    if medal.event.startswith('400m') and int(medal.year) >= 2010:\n",
    "        print('In {medal.year}, {medal.athlete} won for {medal.team}.'.format(medal=medal))"
   ]
  },
  {
   "cell_type": "code",
   "execution_count": null,
   "metadata": {},
   "outputs": [],
   "source": [
    "for medal in medals:\n",
    "    if medal.event.startswith('400m') and int(medal.year) >= 2010:\n",
    "        print(f'In {medal.year}, {medal.athlete.upper()} won for {medal.team}.')"
   ]
  },
  {
   "cell_type": "code",
   "execution_count": null,
   "metadata": {},
   "outputs": [],
   "source": [
    "def findmedal(year=None, team=None, event=None):\n",
    "    filtered = medals\n",
    "    \n",
    "    if year is not None:\n",
    "        filtered = [medal for medal in filtered if medal.year == year]\n",
    "        \n",
    "    if team is not None:\n",
    "        filtered = [medal for medal in filtered if medal.team == team]\n",
    "        \n",
    "    if event is not None:\n",
    "        filtered = [medal for medal in filtered if medal.event == event]\n",
    "    \n",
    "    return filtered"
   ]
  },
  {
   "cell_type": "code",
   "execution_count": null,
   "metadata": {},
   "outputs": [],
   "source": [
    "findmedal(year='1896', team='USA')"
   ]
  },
  {
   "cell_type": "code",
   "execution_count": null,
   "metadata": {},
   "outputs": [],
   "source": [
    "def findmedal2(**kwargs):\n",
    "    filtered = medals\n",
    "    \n",
    "    for key, value in kwargs.items():\n",
    "        filtered = [medal for medal in filtered if getattr(medal, key) == value]\n",
    "    \n",
    "    return filtered"
   ]
  },
  {
   "cell_type": "code",
   "execution_count": null,
   "metadata": {},
   "outputs": [],
   "source": [
    "kwargs = {'year': '1896', 'event': '100m men'}"
   ]
  },
  {
   "cell_type": "code",
   "execution_count": null,
   "metadata": {},
   "outputs": [],
   "source": [
    "all(getattr(medals[0], key) == value for key, value in kwargs.items())"
   ]
  },
  {
   "cell_type": "code",
   "execution_count": null,
   "metadata": {},
   "outputs": [],
   "source": [
    "def findmedal3(**kwargs):\n",
    "    return [medal for medal in medals\n",
    "                  if all(getattr(medal, key) == value for key, value in kwargs.items())]"
   ]
  },
  {
   "cell_type": "code",
   "execution_count": null,
   "metadata": {},
   "outputs": [],
   "source": [
    "findmedal3(year='1896',team='USA')"
   ]
  },
  {
   "cell_type": "code",
   "execution_count": null,
   "metadata": {},
   "outputs": [],
   "source": [
    "findmedal3(athlete='Carl Lewis')"
   ]
  },
  {
   "cell_type": "code",
   "execution_count": null,
   "metadata": {},
   "outputs": [],
   "source": [
    "any([True, False, True])"
   ]
  },
  {
   "cell_type": "code",
   "execution_count": null,
   "metadata": {},
   "outputs": [],
   "source": [
    "def argsum(*args):\n",
    "    print(f\"Summing {len(args)} arguments...\")\n",
    "    \n",
    "    return sum(args)"
   ]
  },
  {
   "cell_type": "code",
   "execution_count": null,
   "metadata": {},
   "outputs": [],
   "source": [
    "argsum(1,2,3,4,5,6,7,8,9,10)"
   ]
  },
  {
   "cell_type": "code",
   "execution_count": null,
   "metadata": {},
   "outputs": [],
   "source": []
  }
 ],
 "metadata": {
  "anaconda-cloud": {},
  "kernelspec": {
   "display_name": "Python 3 (ipykernel)",
   "language": "python",
   "name": "python3"
  },
  "language_info": {
   "codemirror_mode": {
    "name": "ipython",
    "version": 3
   },
   "file_extension": ".py",
   "mimetype": "text/x-python",
   "name": "python",
   "nbconvert_exporter": "python",
   "pygments_lexer": "ipython3",
   "version": "3.9.12"
  }
 },
 "nbformat": 4,
 "nbformat_minor": 1
}
