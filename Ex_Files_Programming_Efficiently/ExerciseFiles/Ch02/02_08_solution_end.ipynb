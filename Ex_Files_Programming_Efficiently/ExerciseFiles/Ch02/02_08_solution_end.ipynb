{
 "cells": [
  {
   "cell_type": "markdown",
   "metadata": {},
   "source": [
    "## 02_08: Olympic medalist solution"
   ]
  },
  {
   "cell_type": "code",
   "execution_count": 1,
   "metadata": {},
   "outputs": [],
   "source": [
    "import collections"
   ]
  },
  {
   "cell_type": "code",
   "execution_count": 2,
   "metadata": {},
   "outputs": [],
   "source": [
    "Medal = collections.namedtuple('Medal', ['year','athlete','team','event'])\n",
    "medals = [Medal(*line.strip().split('\\t')) for line in open('goldmedals.txt', 'r')]"
   ]
  },
  {
   "cell_type": "code",
   "execution_count": 3,
   "metadata": {},
   "outputs": [],
   "source": [
    "medals_by_athlete = collections.Counter(medal.athlete for medal in medals)"
   ]
  },
  {
   "cell_type": "code",
   "execution_count": 4,
   "metadata": {},
   "outputs": [
    {
     "data": {
      "text/plain": [
       "[('Paavo Nurmi', 9), ('Carl Lewis', 9), ('Usain Bolt', 9), ('Ray Ewry', 8)]"
      ]
     },
     "execution_count": 4,
     "metadata": {},
     "output_type": "execute_result"
    }
   ],
   "source": [
    "medals_by_athlete.most_common(4)"
   ]
  },
  {
   "cell_type": "code",
   "execution_count": 5,
   "metadata": {},
   "outputs": [],
   "source": [
    "events_by_athlete = collections.defaultdict(set)\n",
    "\n",
    "for medal in medals:\n",
    "    events_by_athlete[medal.athlete].add(medal.event)"
   ]
  },
  {
   "cell_type": "code",
   "execution_count": 6,
   "metadata": {},
   "outputs": [
    {
     "data": {
      "text/plain": [
       "{'Alvin Kraenzlein': {'110m hurdles men',\n",
       "  '200m hurdles men',\n",
       "  '60m men',\n",
       "  'long jump men'},\n",
       " 'Hannes Kolehmainen': {'10000m men',\n",
       "  '5000m men',\n",
       "  'cross country individual men',\n",
       "  'marathon men'},\n",
       " 'Paavo Nurmi': {'10000m men',\n",
       "  '1500m men',\n",
       "  '3000m team men',\n",
       "  '5000m men',\n",
       "  'cross country individual men',\n",
       "  'cross country team men'},\n",
       " 'Ville Ritola': {'10000m men',\n",
       "  '3000m steeplechase men',\n",
       "  '3000m team men',\n",
       "  '5000m men',\n",
       "  'cross country team men'},\n",
       " 'Jesse Owens': {'100m men', '200m men', '4x100m relay men', 'long jump men'},\n",
       " 'Fanny Blankers-Koen': {'100m women',\n",
       "  '200m women',\n",
       "  '4x100m relay women',\n",
       "  '80m hurdles women'},\n",
       " 'Betty Cuthbert': {'100m women',\n",
       "  '200m women',\n",
       "  '400m women',\n",
       "  '4x100m relay women'},\n",
       " 'Carl Lewis': {'100m men', '200m men', '4x100m relay men', 'long jump men'},\n",
       " 'Usain Bolt': {'100m',\n",
       "  '100m men',\n",
       "  '200m',\n",
       "  '200m men',\n",
       "  '4x100m relay',\n",
       "  '4x100m relay men'},\n",
       " 'Allyson Felix': {'200m women',\n",
       "  '4x100m relay',\n",
       "  '4x100m relay women',\n",
       "  '4x400m relay',\n",
       "  '4x400m relay women'}}"
      ]
     },
     "execution_count": 6,
     "metadata": {},
     "output_type": "execute_result"
    }
   ],
   "source": [
    "{athlete: events for athlete, events in events_by_athlete.items() if len(events) >=  4}"
   ]
  },
  {
   "cell_type": "code",
   "execution_count": 7,
   "metadata": {},
   "outputs": [],
   "source": [
    "def normalize(event):\n",
    "    return ' '.join(word for word in event.split() if word not in ['men','women'])"
   ]
  },
  {
   "cell_type": "code",
   "execution_count": 8,
   "metadata": {},
   "outputs": [
    {
     "data": {
      "text/plain": [
       "'4x400m relay'"
      ]
     },
     "execution_count": 8,
     "metadata": {},
     "output_type": "execute_result"
    }
   ],
   "source": [
    "normalize('4x400m relay women')"
   ]
  },
  {
   "cell_type": "code",
   "execution_count": 9,
   "metadata": {},
   "outputs": [
    {
     "data": {
      "text/plain": [
       "{'Alvin Kraenzlein': {'110m hurdles', '200m hurdles', '60m', 'long jump'},\n",
       " 'Hannes Kolehmainen': {'10000m',\n",
       "  '5000m',\n",
       "  'cross country individual',\n",
       "  'marathon'},\n",
       " 'Paavo Nurmi': {'10000m',\n",
       "  '1500m',\n",
       "  '3000m team',\n",
       "  '5000m',\n",
       "  'cross country individual',\n",
       "  'cross country team'},\n",
       " 'Ville Ritola': {'10000m',\n",
       "  '3000m steeplechase',\n",
       "  '3000m team',\n",
       "  '5000m',\n",
       "  'cross country team'},\n",
       " 'Jesse Owens': {'100m', '200m', '4x100m relay', 'long jump'},\n",
       " 'Fanny Blankers-Koen': {'100m', '200m', '4x100m relay', '80m hurdles'},\n",
       " 'Betty Cuthbert': {'100m', '200m', '400m', '4x100m relay'},\n",
       " 'Carl Lewis': {'100m', '200m', '4x100m relay', 'long jump'}}"
      ]
     },
     "execution_count": 9,
     "metadata": {},
     "output_type": "execute_result"
    }
   ],
   "source": [
    "events_by_athlete = collections.defaultdict(set)\n",
    "\n",
    "for medal in medals:\n",
    "    events_by_athlete[medal.athlete].add(normalize(medal.event))\n",
    "    \n",
    "{athlete: events for athlete, events in events_by_athlete.items() if len(events) >= 4}"
   ]
  },
  {
   "cell_type": "code",
   "execution_count": null,
   "metadata": {},
   "outputs": [],
   "source": []
  }
 ],
 "metadata": {
  "anaconda-cloud": {},
  "kernelspec": {
   "display_name": "Python 3",
   "language": "python",
   "name": "python3"
  },
  "language_info": {
   "codemirror_mode": {
    "name": "ipython",
    "version": 3
   },
   "file_extension": ".py",
   "mimetype": "text/x-python",
   "name": "python",
   "nbconvert_exporter": "python",
   "pygments_lexer": "ipython3",
   "version": "3.7.6"
  }
 },
 "nbformat": 4,
 "nbformat_minor": 1
}
