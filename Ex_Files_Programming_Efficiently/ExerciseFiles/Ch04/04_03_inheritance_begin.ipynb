{
 "cells": [
  {
   "cell_type": "markdown",
   "metadata": {},
   "source": [
    "## 04_03: Exploit class inheritance"
   ]
  },
  {
   "cell_type": "code",
   "execution_count": null,
   "metadata": {},
   "outputs": [],
   "source": [
    "import math\n",
    "import random"
   ]
  },
  {
   "cell_type": "code",
   "execution_count": null,
   "metadata": {},
   "outputs": [],
   "source": [
    "from turtle import Turtle, Terrarium"
   ]
  },
  {
   "cell_type": "code",
   "execution_count": null,
   "metadata": {},
   "outputs": [],
   "source": [
    "def polyspi(t, side, angle):\n",
    "    if side > 0:\n",
    "        t.forward(side)\n",
    "        t.right(angle)\n",
    "        polyspi(t, side-2, angle)"
   ]
  },
  {
   "cell_type": "code",
   "execution_count": null,
   "metadata": {},
   "outputs": [],
   "source": [
    "with Terrarium() as t:\n",
    "    t1 = Turtle(t, 'coral')\n",
    "\n",
    "    t1.point(1)\n",
    "    polyspi(t1, 100, 119)"
   ]
  },
  {
   "cell_type": "code",
   "execution_count": null,
   "metadata": {},
   "outputs": [],
   "source": [
    "# pass javascript=False to make movie as HTML5 instead of Javascript\n",
    "\n",
    "with Terrarium(animate=True) as t:\n",
    "    t1 = Turtle(t, 'coral')\n",
    "\n",
    "    t1.point(1)\n",
    "    polyspi(t1, 100, 129)"
   ]
  },
  {
   "cell_type": "code",
   "execution_count": null,
   "metadata": {},
   "outputs": [],
   "source": [
    "with Terrarium() as t:\n",
    "    t1 = Turtle(t)\n",
    "    \n",
    "    t1.left(20)\n",
    "    for i in range(200):\n",
    "        t1.forward(1)"
   ]
  },
  {
   "cell_type": "code",
   "execution_count": null,
   "metadata": {},
   "outputs": [],
   "source": [
    "class ShakyTurtle(Turtle):\n",
    "    def forward(self, distance):\n",
    "        self.right(random.uniform(-10, 10))\n",
    "        super().forward(random.uniform(0.75, 1.25) * distance)"
   ]
  },
  {
   "cell_type": "code",
   "execution_count": null,
   "metadata": {},
   "outputs": [],
   "source": [
    "with Terrarium() as t:\n",
    "    t1 = ShakyTurtle(t)\n",
    "    \n",
    "    t1.left(20)\n",
    "    for i in range(200):\n",
    "        t1.forward(1)"
   ]
  },
  {
   "cell_type": "code",
   "execution_count": null,
   "metadata": {},
   "outputs": [],
   "source": [
    "with Terrarium() as t:\n",
    "    t1 = ShakyTurtle(t)\n",
    "    \n",
    "    polyspi(t1, 100, 119)"
   ]
  },
  {
   "cell_type": "code",
   "execution_count": null,
   "metadata": {},
   "outputs": [],
   "source": [
    "class ShakyTurtle(Turtle):\n",
    "    def __init__(self, t, col='b', shakiness=10):\n",
    "        super().__init__(t, col)\n",
    "        self.shakiness = shakiness\n",
    "    \n",
    "    def forward(self,distance):\n",
    "        self.right(random.uniform(-1, 1) * self.shakiness)\n",
    "        super().forward(random.uniform(0.75, 1.25) *  distance)"
   ]
  },
  {
   "cell_type": "code",
   "execution_count": null,
   "metadata": {},
   "outputs": [],
   "source": [
    "with Terrarium(animate=True) as t:\n",
    "    t1 = ShakyTurtle(t, 'navy', 5)\n",
    "    t2 = ShakyTurtle(t, 'coral', 10)\n",
    "    t3 = ShakyTurtle(t, 'seagreen', 50)\n",
    "    \n",
    "    for i in range(200):\n",
    "        for ti in [t1,t2,t3]:\n",
    "            ti.forward(1)"
   ]
  },
  {
   "cell_type": "code",
   "execution_count": null,
   "metadata": {},
   "outputs": [],
   "source": [
    "class PredatorTurtle(ShakyTurtle):\n",
    "    def follow(self, prey, distance):\n",
    "        dx, dy = prey.pos[0] - self.pos[0], prey.pos[1] - self.pos[1]\n",
    "        angle_to_prey = math.atan2(dy, dx) / self.deg - self.angle\n",
    "        \n",
    "        self.left(angle_to_prey)\n",
    "        self.forward(distance)"
   ]
  },
  {
   "cell_type": "code",
   "execution_count": null,
   "metadata": {},
   "outputs": [],
   "source": [
    "with Terrarium(animate=True) as t:\n",
    "    t1 = ShakyTurtle(t, 'navy', 20)\n",
    "    t2 = PredatorTurtle(t, 'coral', 10)\n",
    "    \n",
    "    for i in range(200):\n",
    "        t1.forward(1)\n",
    "        t2.follow(t1, 0.75)\n",
    "        \n",
    "    t1.point(); t2.point()"
   ]
  },
  {
   "cell_type": "code",
   "execution_count": null,
   "metadata": {},
   "outputs": [],
   "source": [
    "def move(turtle, x, y):\n",
    "    turtle.pos = (x,y)\n",
    "    \n",
    "Turtle.move = move"
   ]
  },
  {
   "cell_type": "code",
   "execution_count": null,
   "metadata": {},
   "outputs": [],
   "source": [
    "with Terrarium(animate=True) as t:\n",
    "    t1 = ShakyTurtle(t, 'navy', 20)\n",
    "    t2 = PredatorTurtle(t, 'coral', 10)\n",
    "    \n",
    "    t1.move(75, 75)\n",
    "    \n",
    "    for i in range(200):\n",
    "        t1.forward(1)\n",
    "        t2.follow(t1, 0.75)\n",
    "        \n",
    "    t1.point(); t2.point()"
   ]
  },
  {
   "cell_type": "code",
   "execution_count": null,
   "metadata": {},
   "outputs": [],
   "source": []
  }
 ],
 "metadata": {
  "anaconda-cloud": {},
  "kernelspec": {
   "display_name": "Python 3",
   "language": "python",
   "name": "python3"
  },
  "language_info": {
   "codemirror_mode": {
    "name": "ipython",
    "version": 3
   },
   "file_extension": ".py",
   "mimetype": "text/x-python",
   "name": "python",
   "nbconvert_exporter": "python",
   "pygments_lexer": "ipython3",
   "version": "3.7.6"
  }
 },
 "nbformat": 4,
 "nbformat_minor": 1
}
