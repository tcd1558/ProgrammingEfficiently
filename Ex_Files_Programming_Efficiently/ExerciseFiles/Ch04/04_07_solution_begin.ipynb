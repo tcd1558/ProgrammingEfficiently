{
 "cells": [
  {
   "cell_type": "markdown",
   "metadata": {},
   "source": [
    "## 04_07: Bale of Turtles solution"
   ]
  },
  {
   "cell_type": "code",
   "execution_count": null,
   "metadata": {},
   "outputs": [],
   "source": [
    "import itertools\n",
    "from collections.abc import Iterable"
   ]
  },
  {
   "cell_type": "code",
   "execution_count": null,
   "metadata": {},
   "outputs": [],
   "source": [
    "from turtle import Turtle, Terrarium"
   ]
  },
  {
   "cell_type": "code",
   "execution_count": null,
   "metadata": {},
   "outputs": [],
   "source": [
    "class Bale:\n",
    "    def __init__(self, terrarium, n):\n",
    "        self.turtles = [Turtle(terrarium, color=f'C{i % 10}') for i in range(n)]\n",
    "        \n",
    "    def forward(self, distance):\n",
    "        if isinstance(distance, Iterable):\n",
    "            for t, d in zip(self.turtles, distance):\n",
    "                t.forward(d)\n",
    "        else:\n",
    "            for t in self.turtles:\n",
    "                t.forward(distance)\n",
    "    \n",
    "    # ...and similarly for back, left, right, penup, pendown"
   ]
  },
  {
   "cell_type": "code",
   "execution_count": null,
   "metadata": {},
   "outputs": [],
   "source": [
    "def makeiterable(argument):\n",
    "    return argument if isinstance(argument, Iterable) else itertools.repeat(argument)"
   ]
  },
  {
   "cell_type": "code",
   "execution_count": null,
   "metadata": {},
   "outputs": [],
   "source": [
    "class Bale:\n",
    "    def __init__(self, terrarium, n):\n",
    "        self.turtles = [Turtle(terrarium, color=f'C{i % 10}') for i in range(n)]\n",
    "        \n",
    "    def forward(self, distance):\n",
    "        for t, a in zip(self.turtles, makeiterable(distance)):\n",
    "            t.forward(a)\n",
    "        \n",
    "    def back(self, distance):\n",
    "        for t, a in zip(self.turtles, makeiterable(distance)):\n",
    "            t.back(a)\n",
    "        \n",
    "    def right(self, angle):\n",
    "        for t, a in zip(self.turtles, makeiterable(angle)):\n",
    "            t.right(a)\n",
    "            \n",
    "    def left(self, angle):\n",
    "        for t, a in zip(self.turtles, makeiterable(angle)):\n",
    "            t.left(a)\n",
    "            \n",
    "    def penup(self):\n",
    "        for t in self.turtles:\n",
    "            t.penup()\n",
    "    \n",
    "    def pendown(self):\n",
    "        for t in self.turtles:\n",
    "            t.pendown()     "
   ]
  },
  {
   "cell_type": "code",
   "execution_count": null,
   "metadata": {},
   "outputs": [],
   "source": [
    "def polyspi(t, side, angle):\n",
    "    if side > 0:\n",
    "        t.forward(side)\n",
    "        t.right(angle)\n",
    "        polyspi(t, side - 2, angle)"
   ]
  },
  {
   "cell_type": "code",
   "execution_count": null,
   "metadata": {},
   "outputs": [],
   "source": [
    "with Terrarium() as t:\n",
    "    b = Bale(t, 5)\n",
    "    \n",
    "    polyspi(b, 50, range(65, 70))"
   ]
  },
  {
   "cell_type": "code",
   "execution_count": null,
   "metadata": {},
   "outputs": [],
   "source": [
    "with Terrarium(figsize=10) as t:\n",
    "    b = Bale(t, 10)\n",
    "    \n",
    "    b.penup()\n",
    "    b.left(range(0, 360, 36))\n",
    "    b.forward(150)\n",
    "    b.pendown()\n",
    "    \n",
    "    polyspi(b, 125, range(115, 125))"
   ]
  },
  {
   "cell_type": "code",
   "execution_count": null,
   "metadata": {},
   "outputs": [],
   "source": []
  }
 ],
 "metadata": {
  "anaconda-cloud": {},
  "kernelspec": {
   "display_name": "Python 3",
   "language": "python",
   "name": "python3"
  },
  "language_info": {
   "codemirror_mode": {
    "name": "ipython",
    "version": 3
   },
   "file_extension": ".py",
   "mimetype": "text/x-python",
   "name": "python",
   "nbconvert_exporter": "python",
   "pygments_lexer": "ipython3",
   "version": "3.8.3"
  }
 },
 "nbformat": 4,
 "nbformat_minor": 1
}
