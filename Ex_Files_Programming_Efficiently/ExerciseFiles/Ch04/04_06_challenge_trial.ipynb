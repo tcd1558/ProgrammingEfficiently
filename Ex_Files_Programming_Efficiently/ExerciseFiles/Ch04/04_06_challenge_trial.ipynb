{
 "cells": [
  {
   "cell_type": "markdown",
   "metadata": {},
   "source": [
    "## 04_06: Bale of Turtles challenge"
   ]
  },
  {
   "cell_type": "code",
   "execution_count": 88,
   "metadata": {},
   "outputs": [],
   "source": [
    "from collections.abc import Iterable"
   ]
  },
  {
   "cell_type": "code",
   "execution_count": 89,
   "metadata": {},
   "outputs": [
    {
     "data": {
      "text/plain": [
       "True"
      ]
     },
     "execution_count": 89,
     "metadata": {},
     "output_type": "execute_result"
    }
   ],
   "source": [
    "isinstance([1,2,3], Iterable)"
   ]
  },
  {
   "cell_type": "code",
   "execution_count": 90,
   "metadata": {},
   "outputs": [
    {
     "data": {
      "text/plain": [
       "False"
      ]
     },
     "execution_count": 90,
     "metadata": {},
     "output_type": "execute_result"
    }
   ],
   "source": [
    "isinstance(2.0, Iterable)"
   ]
  },
  {
   "cell_type": "markdown",
   "metadata": {},
   "source": [
    "Write a class Bale that creates and operates a group of n Turtles"
   ]
  },
  {
   "cell_type": "code",
   "execution_count": 91,
   "metadata": {},
   "outputs": [],
   "source": [
    "from turtle import Turtle, Terrarium\n",
    "from termcolor import colored"
   ]
  },
  {
   "cell_type": "code",
   "execution_count": 119,
   "metadata": {},
   "outputs": [],
   "source": [
    "# https://stackoverflow.com/questions/16816013/is-it-possible-to-print-using-different-colors-in-ipythons-notebook\n",
    "\n",
    "class Bale(object):\n",
    "    def __init__(self,terrarium, n):\n",
    "        self.t=terrarium\n",
    "        self.count=n\n",
    "        # Black is the same as not colored\n",
    "        self.colors=['b','g','r','c','m','y','k','w']\n",
    "        # Entry for black does not work; is not defined\n",
    "        # White is gray\n",
    "        self.color_dict={'b':'blue','g':'green','r':'red','c':'cyan','m':'magenta','y':'yellow','k':'black','w':'white'}\n",
    "        self.turtles=[]\n",
    "        \n",
    "        for i in range(self.count):\n",
    "            new_turtle=Turtle(terrarium)\n",
    "            new_turtle.color=self.colors[i] # does not work with a dict\n",
    "            self.turtles.append(new_turtle)\n",
    "    \n",
    "    def left(self, angle):\n",
    "        if isinstance(angle, Iterable):\n",
    "            print(\"individual angle\")\n",
    "            for my_angle in angle:\n",
    "                print(my_angle)\n",
    "            i=0\n",
    "            for turtle in self.turtles:\n",
    "                turtle.angle=angle[i]\n",
    "                i+=1\n",
    "        else:\n",
    "            print(\"common angle\")\n",
    "            for turtle in self.turtles:\n",
    "                turtle.angle=angle\n",
    "            pass\n",
    "    \n",
    "    def forward(self, distance):\n",
    "        if isinstance(distance, Iterable):\n",
    "            print(\"individual distance\")\n",
    "            for my_distance in distance:\n",
    "                print(my_distance)\n",
    "            i=0\n",
    "            for turtle in self.turtles:\n",
    "                turtle.forward(distance[i])\n",
    "                i+=1\n",
    "        else:\n",
    "            print(\"common distance\")\n",
    "            for turtle in self.turtles:\n",
    "                turtle.forward(distance)\n",
    "            pass\n",
    "    \n",
    "    def show(self):\n",
    "        for t in self.turtles:\n",
    "            #print(t.color)\n",
    "            print(colored(t.color, self.color_dict[t.color]))\n",
    "            "
   ]
  },
  {
   "cell_type": "code",
   "execution_count": 121,
   "metadata": {},
   "outputs": [
    {
     "name": "stdout",
     "output_type": "stream",
     "text": [
      "\u001b[34mb\u001b[0m\n",
      "\u001b[32mg\u001b[0m\n",
      "\u001b[31mr\u001b[0m\n",
      "\u001b[36mc\u001b[0m\n",
      "\u001b[35mm\u001b[0m\n",
      "individual angle\n",
      "0\n",
      "10\n",
      "20\n",
      "30\n",
      "40\n",
      "individual distance\n",
      "100\n",
      "7\n",
      "24\n",
      "43\n",
      "93\n"
     ]
    },
    {
     "data": {
      "image/png": "[encoded data removed]",
      "text/plain": [
       "<Figure size 360x360 with 1 Axes>"
      ]
     },
     "metadata": {},
     "output_type": "display_data"
    }
   ],
   "source": [
    "with Terrarium() as t:\n",
    "    # Create a group (Bale) with 5 turtles\n",
    "    # Each Turtle uses a different color\n",
    "    b = Bale(t, 5)\n",
    "    b.show()\n",
    "    # Turn each Turtle by a different angle\n",
    "    b.left([0, 10, 20, 30, 40])\n",
    "    #b.left(5)\n",
    "    # Have all Turtles move a distance of 100 forward\n",
    "    #b.forward(100)\n",
    "    b.forward([100, 7, 24, 43, 93])\n",
    "    "
   ]
  },
  {
   "cell_type": "code",
   "execution_count": null,
   "metadata": {},
   "outputs": [],
   "source": []
  },
  {
   "cell_type": "code",
   "execution_count": null,
   "metadata": {},
   "outputs": [],
   "source": []
  }
 ],
 "metadata": {
  "anaconda-cloud": {},
  "kernelspec": {
   "display_name": "Python 3 (ipykernel)",
   "language": "python",
   "name": "python3"
  },
  "language_info": {
   "codemirror_mode": {
    "name": "ipython",
    "version": 3
   },
   "file_extension": ".py",
   "mimetype": "text/x-python",
   "name": "python",
   "nbconvert_exporter": "python",
   "pygments_lexer": "ipython3",
   "version": "3.9.12"
  }
 },
 "nbformat": 4,
 "nbformat_minor": 1
}
