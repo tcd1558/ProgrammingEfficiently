{
 "cells": [
  {
   "cell_type": "markdown",
   "metadata": {},
   "source": [
    "## 04_05: Function decorators"
   ]
  },
  {
   "cell_type": "code",
   "execution_count": 1,
   "metadata": {},
   "outputs": [],
   "source": [
    "import math\n",
    "import functools"
   ]
  },
  {
   "cell_type": "code",
   "execution_count": 2,
   "metadata": {},
   "outputs": [],
   "source": [
    "from turtle import Turtle, Terrarium"
   ]
  },
  {
   "cell_type": "code",
   "execution_count": 3,
   "metadata": {},
   "outputs": [],
   "source": [
    "def printargs(inputfunc):\n",
    "    def outputfunc(*args, **kwargs):\n",
    "        print(\"Function {} called with args = {} and kwargs = {}\".format(inputfunc.__name__, args, kwargs))\n",
    "        \n",
    "        return inputfunc(*args, **kwargs)\n",
    "    \n",
    "    return outputfunc"
   ]
  },
  {
   "cell_type": "code",
   "execution_count": 4,
   "metadata": {},
   "outputs": [],
   "source": [
    "@printargs\n",
    "def fibonacci(n):\n",
    "    \"\"\"Return a number in the Fibonacci sequence.\"\"\"\n",
    "    \n",
    "    # the first two numbers in the sequence are both 1\n",
    "    if n < 2:\n",
    "        return 1\n",
    "    \n",
    "    # every other number is the sum of the two before it\n",
    "    return fibonacci(n-1) + fibonacci(n-2)"
   ]
  },
  {
   "cell_type": "code",
   "execution_count": 5,
   "metadata": {},
   "outputs": [
    {
     "name": "stdout",
     "output_type": "stream",
     "text": [
      "Function fibonacci called with args = (5,) and kwargs = {}\n",
      "Function fibonacci called with args = (4,) and kwargs = {}\n",
      "Function fibonacci called with args = (3,) and kwargs = {}\n",
      "Function fibonacci called with args = (2,) and kwargs = {}\n",
      "Function fibonacci called with args = (1,) and kwargs = {}\n",
      "Function fibonacci called with args = (0,) and kwargs = {}\n",
      "Function fibonacci called with args = (1,) and kwargs = {}\n",
      "Function fibonacci called with args = (2,) and kwargs = {}\n",
      "Function fibonacci called with args = (1,) and kwargs = {}\n",
      "Function fibonacci called with args = (0,) and kwargs = {}\n",
      "Function fibonacci called with args = (3,) and kwargs = {}\n",
      "Function fibonacci called with args = (2,) and kwargs = {}\n",
      "Function fibonacci called with args = (1,) and kwargs = {}\n",
      "Function fibonacci called with args = (0,) and kwargs = {}\n",
      "Function fibonacci called with args = (1,) and kwargs = {}\n"
     ]
    },
    {
     "data": {
      "text/plain": [
       "8"
      ]
     },
     "execution_count": 5,
     "metadata": {},
     "output_type": "execute_result"
    }
   ],
   "source": [
    "fibonacci(5)"
   ]
  },
  {
   "cell_type": "code",
   "execution_count": 6,
   "metadata": {},
   "outputs": [
    {
     "data": {
      "text/plain": [
       "<function __main__.printargs.<locals>.outputfunc(*args, **kwargs)>"
      ]
     },
     "execution_count": 6,
     "metadata": {},
     "output_type": "execute_result"
    }
   ],
   "source": [
    "fibonacci"
   ]
  },
  {
   "cell_type": "code",
   "execution_count": 7,
   "metadata": {},
   "outputs": [
    {
     "name": "stdout",
     "output_type": "stream",
     "text": [
      "Help on function outputfunc in module __main__:\n",
      "\n",
      "outputfunc(*args, **kwargs)\n",
      "\n"
     ]
    }
   ],
   "source": [
    "help(fibonacci)"
   ]
  },
  {
   "cell_type": "code",
   "execution_count": 8,
   "metadata": {},
   "outputs": [],
   "source": [
    "def printargs(inputfunc):\n",
    "    @functools.wraps(inputfunc)\n",
    "    def outputfunc(*args, **kwargs):\n",
    "        print(\"Function {} called with args = {} and kwargs = {}\".format(inputfunc.__name__, args, kwargs))\n",
    "        \n",
    "        return inputfunc(*args, **kwargs)\n",
    "    \n",
    "    return outputfunc"
   ]
  },
  {
   "cell_type": "code",
   "execution_count": 9,
   "metadata": {},
   "outputs": [],
   "source": [
    "@printargs\n",
    "def fibonacci(n):\n",
    "    \"\"\"Return a number in the Fibonacci sequence.\"\"\"\n",
    "    \n",
    "    if n < 2:\n",
    "        return 1\n",
    "\n",
    "    return fibonacci(n-1) + fibonacci(n-2)"
   ]
  },
  {
   "cell_type": "code",
   "execution_count": 10,
   "metadata": {},
   "outputs": [
    {
     "data": {
      "text/plain": [
       "<function __main__.fibonacci(n)>"
      ]
     },
     "execution_count": 10,
     "metadata": {},
     "output_type": "execute_result"
    }
   ],
   "source": [
    "fibonacci"
   ]
  },
  {
   "cell_type": "code",
   "execution_count": 11,
   "metadata": {},
   "outputs": [
    {
     "name": "stdout",
     "output_type": "stream",
     "text": [
      "Help on function fibonacci in module __main__:\n",
      "\n",
      "fibonacci(n)\n",
      "    Return a number in the Fibonacci sequence.\n",
      "\n"
     ]
    }
   ],
   "source": [
    "help(fibonacci)"
   ]
  },
  {
   "cell_type": "code",
   "execution_count": 12,
   "metadata": {},
   "outputs": [],
   "source": [
    "@functools.lru_cache(maxsize=None)\n",
    "@printargs\n",
    "def fibonacci(n):\n",
    "    \"\"\"Return a number in the Fibonacci sequence.\"\"\"\n",
    "    \n",
    "    if n < 2:\n",
    "        return 1\n",
    "\n",
    "    return fibonacci(n-1) + fibonacci(n-2)"
   ]
  },
  {
   "cell_type": "code",
   "execution_count": 13,
   "metadata": {},
   "outputs": [
    {
     "name": "stdout",
     "output_type": "stream",
     "text": [
      "Function fibonacci called with args = (5,) and kwargs = {}\n",
      "Function fibonacci called with args = (4,) and kwargs = {}\n",
      "Function fibonacci called with args = (3,) and kwargs = {}\n",
      "Function fibonacci called with args = (2,) and kwargs = {}\n",
      "Function fibonacci called with args = (1,) and kwargs = {}\n",
      "Function fibonacci called with args = (0,) and kwargs = {}\n"
     ]
    },
    {
     "data": {
      "text/plain": [
       "8"
      ]
     },
     "execution_count": 13,
     "metadata": {},
     "output_type": "execute_result"
    }
   ],
   "source": [
    "fibonacci(5)"
   ]
  },
  {
   "cell_type": "code",
   "execution_count": 14,
   "metadata": {},
   "outputs": [
    {
     "data": {
      "text/plain": [
       "8"
      ]
     },
     "execution_count": 14,
     "metadata": {},
     "output_type": "execute_result"
    }
   ],
   "source": [
    "fibonacci(5)"
   ]
  },
  {
   "cell_type": "code",
   "execution_count": 15,
   "metadata": {},
   "outputs": [],
   "source": [
    "def quartercircle(t, radius):\n",
    "    for a in range(90):\n",
    "        t.forward(0.5 * math.pi * radius / 90)\n",
    "        t.left(1)"
   ]
  },
  {
   "cell_type": "code",
   "execution_count": 16,
   "metadata": {},
   "outputs": [
    {
     "data": {
      "image/png": "[encoded data removed]",
      "text/plain": [
       "<Figure size 360x360 with 1 Axes>"
      ]
     },
     "metadata": {},
     "output_type": "display_data"
    }
   ],
   "source": [
    "with Terrarium() as t:\n",
    "    quartercircle(Turtle(t), 1)"
   ]
  },
  {
   "cell_type": "code",
   "execution_count": 17,
   "metadata": {},
   "outputs": [],
   "source": [
    "def QC(radius):\n",
    "    return functools.partial(quartercircle, radius=radius)"
   ]
  },
  {
   "cell_type": "code",
   "execution_count": 18,
   "metadata": {},
   "outputs": [
    {
     "name": "stdout",
     "output_type": "stream",
     "text": [
      "Function fibonacci called with args = (6,) and kwargs = {}\n",
      "Function fibonacci called with args = (7,) and kwargs = {}\n",
      "Function fibonacci called with args = (8,) and kwargs = {}\n",
      "Function fibonacci called with args = (9,) and kwargs = {}\n"
     ]
    }
   ],
   "source": [
    "spiral = [QC(fibonacci(i)) for i in range(10)]"
   ]
  },
  {
   "cell_type": "code",
   "execution_count": 19,
   "metadata": {},
   "outputs": [
    {
     "data": {
      "image/png": "[encoded data removed]",
      "text/plain": [
       "<Figure size 360x360 with 1 Axes>"
      ]
     },
     "metadata": {},
     "output_type": "display_data"
    }
   ],
   "source": [
    "with Terrarium() as t:\n",
    "    Turtle(t).run(spiral)"
   ]
  },
  {
   "cell_type": "code",
   "execution_count": 20,
   "metadata": {},
   "outputs": [],
   "source": [
    "twice = lambda x: 2*x"
   ]
  },
  {
   "cell_type": "code",
   "execution_count": 21,
   "metadata": {},
   "outputs": [
    {
     "data": {
      "text/plain": [
       "6"
      ]
     },
     "execution_count": 21,
     "metadata": {},
     "output_type": "execute_result"
    }
   ],
   "source": [
    "twice(3)"
   ]
  },
  {
   "cell_type": "code",
   "execution_count": 22,
   "metadata": {},
   "outputs": [
    {
     "data": {
      "text/plain": [
       "8"
      ]
     },
     "execution_count": 22,
     "metadata": {},
     "output_type": "execute_result"
    }
   ],
   "source": [
    "(lambda x: 2*x)(4)"
   ]
  },
  {
   "cell_type": "code",
   "execution_count": 23,
   "metadata": {},
   "outputs": [],
   "source": [
    "fibonacci10 = [fibonacci(i) for i in range(10)]"
   ]
  },
  {
   "cell_type": "code",
   "execution_count": 24,
   "metadata": {},
   "outputs": [
    {
     "data": {
      "text/plain": [
       "<map at 0x11b253850>"
      ]
     },
     "execution_count": 24,
     "metadata": {},
     "output_type": "execute_result"
    }
   ],
   "source": [
    "map(twice, fibonacci10)"
   ]
  },
  {
   "cell_type": "code",
   "execution_count": 25,
   "metadata": {},
   "outputs": [
    {
     "data": {
      "text/plain": [
       "[2, 2, 4, 6, 10, 16, 26, 42, 68, 110]"
      ]
     },
     "execution_count": 25,
     "metadata": {},
     "output_type": "execute_result"
    }
   ],
   "source": [
    "list(map(twice, fibonacci10))"
   ]
  },
  {
   "cell_type": "code",
   "execution_count": 26,
   "metadata": {},
   "outputs": [
    {
     "data": {
      "text/plain": [
       "[2, 8, 34]"
      ]
     },
     "execution_count": 26,
     "metadata": {},
     "output_type": "execute_result"
    }
   ],
   "source": [
    "list(filter(lambda x: x % 2 == 0, fibonacci10))"
   ]
  },
  {
   "cell_type": "code",
   "execution_count": 27,
   "metadata": {},
   "outputs": [
    {
     "data": {
      "text/plain": [
       "143"
      ]
     },
     "execution_count": 27,
     "metadata": {},
     "output_type": "execute_result"
    }
   ],
   "source": [
    "functools.reduce(lambda x,y: x+y, fibonacci10)"
   ]
  },
  {
   "cell_type": "code",
   "execution_count": null,
   "metadata": {},
   "outputs": [],
   "source": []
  }
 ],
 "metadata": {
  "anaconda-cloud": {},
  "kernelspec": {
   "display_name": "Python 3",
   "language": "python",
   "name": "python3"
  },
  "language_info": {
   "codemirror_mode": {
    "name": "ipython",
    "version": 3
   },
   "file_extension": ".py",
   "mimetype": "text/x-python",
   "name": "python",
   "nbconvert_exporter": "python",
   "pygments_lexer": "ipython3",
   "version": "3.7.6"
  }
 },
 "nbformat": 4,
 "nbformat_minor": 1
}
