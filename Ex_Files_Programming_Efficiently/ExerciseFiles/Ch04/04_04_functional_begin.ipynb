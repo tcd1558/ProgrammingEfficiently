{
 "cells": [
  {
   "cell_type": "markdown",
   "metadata": {},
   "source": [
    "## 04_04: Functional techniques in Python"
   ]
  },
  {
   "cell_type": "code",
   "execution_count": null,
   "metadata": {},
   "outputs": [],
   "source": [
    "import functools"
   ]
  },
  {
   "cell_type": "code",
   "execution_count": null,
   "metadata": {},
   "outputs": [],
   "source": [
    "from turtle import Turtle, Terrarium"
   ]
  },
  {
   "cell_type": "code",
   "execution_count": null,
   "metadata": {},
   "outputs": [],
   "source": [
    "def drawkoch(turtle, distance, level):\n",
    "    if level > 0:\n",
    "        # draw the four components of the Koch shape (_/\\_)\n",
    "        # calling this function recursively for each\n",
    "        drawkoch(turtle, distance/3, level-1)  # draw east _\n",
    "        turtle.left(60)                                        \n",
    "        drawkoch(turtle, distance/3, level-1)  # draw northeast /\n",
    "        turtle.left(-120)\n",
    "        drawkoch(turtle, distance/3, level-1)  # draw southeast \\\n",
    "        turtle.left(60)\n",
    "        drawkoch(turtle, distance/3, level-1)  # draw east _\n",
    "    else:\n",
    "        # at the last level of recursion, draw a simple segment\n",
    "        turtle.forward(distance)"
   ]
  },
  {
   "cell_type": "code",
   "execution_count": null,
   "metadata": {},
   "outputs": [],
   "source": [
    "with Terrarium() as t:\n",
    "    drawkoch(Turtle(t), 100, 0)"
   ]
  },
  {
   "cell_type": "code",
   "execution_count": null,
   "metadata": {},
   "outputs": [],
   "source": [
    "with Terrarium() as t:\n",
    "    drawkoch(Turtle(t), 100, 1)"
   ]
  },
  {
   "cell_type": "code",
   "execution_count": null,
   "metadata": {},
   "outputs": [],
   "source": [
    "with Terrarium() as t:\n",
    "    drawkoch(Turtle(t), 100, 2)"
   ]
  },
  {
   "cell_type": "code",
   "execution_count": null,
   "metadata": {},
   "outputs": [],
   "source": [
    "def snowflake(turtle, dist, level):\n",
    "    for i in range(3):\n",
    "        drawkoch(turtle, dist, level)\n",
    "        turtle.right(120)"
   ]
  },
  {
   "cell_type": "code",
   "execution_count": null,
   "metadata": {},
   "outputs": [],
   "source": [
    "with Terrarium() as t:\n",
    "    snowflake(Turtle(t), 100, 4)"
   ]
  },
  {
   "cell_type": "code",
   "execution_count": null,
   "metadata": {},
   "outputs": [],
   "source": [
    "with Terrarium() as t:\n",
    "    t1 = Turtle(t)\n",
    "    \n",
    "    def f10():\n",
    "        t1.forward(10)\n",
    "    \n",
    "    def l60():\n",
    "        t1.left(60)\n",
    "\n",
    "    def r60():\n",
    "        t1.right(60)\n",
    "        \n",
    "    koch = [f10,l60,f10,r60,r60,f10,l60,f10]\n",
    "    \n",
    "    for f in koch:\n",
    "        f()"
   ]
  },
  {
   "cell_type": "code",
   "execution_count": null,
   "metadata": {},
   "outputs": [],
   "source": [
    "def over(a, b):\n",
    "    return a / b"
   ]
  },
  {
   "cell_type": "code",
   "execution_count": null,
   "metadata": {},
   "outputs": [],
   "source": [
    "inverse = functools.partial(over, 1)\n",
    "half = functools.partial(over, b=2)"
   ]
  },
  {
   "cell_type": "code",
   "execution_count": null,
   "metadata": {},
   "outputs": [],
   "source": [
    "inverse"
   ]
  },
  {
   "cell_type": "code",
   "execution_count": null,
   "metadata": {},
   "outputs": [],
   "source": [
    "inverse(2)"
   ]
  },
  {
   "cell_type": "code",
   "execution_count": null,
   "metadata": {},
   "outputs": [],
   "source": [
    "half(3)"
   ]
  },
  {
   "cell_type": "code",
   "execution_count": null,
   "metadata": {},
   "outputs": [],
   "source": [
    "# class Turtle:\n",
    "#     ...\n",
    "#\n",
    "#     def forward(self, distance):\n",
    "#         ...\n",
    "#\n",
    "#     ..."
   ]
  },
  {
   "cell_type": "code",
   "execution_count": null,
   "metadata": {},
   "outputs": [],
   "source": [
    "def F(dist):\n",
    "    return functools.partial(Turtle.forward, distance=dist)\n",
    "\n",
    "def L(ang):\n",
    "    return functools.partial(Turtle.left, angle=ang)\n",
    "\n",
    "def R(ang):\n",
    "    return functools.partial(Turtle.right, angle=ang)"
   ]
  },
  {
   "cell_type": "code",
   "execution_count": null,
   "metadata": {},
   "outputs": [],
   "source": [
    "with Terrarium() as t:\n",
    "    t1 = Turtle(t)\n",
    "        \n",
    "    # we could also write L(-120) instead of R(60),R(60) \n",
    "    koch = [F(10),L(60),F(10),R(60),R(60),F(10),L(60),F(10)]\n",
    "    \n",
    "    for f in koch:\n",
    "        f(t1)"
   ]
  },
  {
   "cell_type": "code",
   "execution_count": null,
   "metadata": {},
   "outputs": [],
   "source": [
    "F(10)"
   ]
  },
  {
   "cell_type": "code",
   "execution_count": null,
   "metadata": {},
   "outputs": [],
   "source": [
    "F(10).func"
   ]
  },
  {
   "cell_type": "code",
   "execution_count": null,
   "metadata": {},
   "outputs": [],
   "source": [
    "F(10).keywords"
   ]
  },
  {
   "cell_type": "code",
   "execution_count": null,
   "metadata": {},
   "outputs": [],
   "source": [
    "def kochiter(steps):\n",
    "    newsteps = []\n",
    "    \n",
    "    for step in steps:\n",
    "        if step.func is Turtle.forward:\n",
    "            # if step is a segment, replace it with a Koch sequence\n",
    "            # made using a shorter segment\n",
    "            \n",
    "            F3 = F(step.keywords['distance']/3)\n",
    "            newsteps += [F3,L(60),F3,R(60),R(60),F3,L(60),F3]\n",
    "        else:\n",
    "            # if step is a turn, keep it as is\n",
    "            \n",
    "            newsteps += [step]\n",
    "            \n",
    "    return newsteps"
   ]
  },
  {
   "cell_type": "code",
   "execution_count": null,
   "metadata": {},
   "outputs": [],
   "source": [
    "segment = [F(100)]"
   ]
  },
  {
   "cell_type": "code",
   "execution_count": null,
   "metadata": {},
   "outputs": [],
   "source": [
    "with Terrarium() as t:\n",
    "    t1 = Turtle(t)\n",
    "    \n",
    "    for f in kochiter(segment):\n",
    "        f(t1)"
   ]
  },
  {
   "cell_type": "code",
   "execution_count": null,
   "metadata": {},
   "outputs": [],
   "source": [
    "with Terrarium() as t:\n",
    "    t1 = Turtle(t)\n",
    "    \n",
    "    for f in kochiter(kochiter(segment)):\n",
    "        f(t1)"
   ]
  },
  {
   "cell_type": "code",
   "execution_count": null,
   "metadata": {},
   "outputs": [],
   "source": [
    "def iterated(f, n):\n",
    "    def iterf(arg):\n",
    "        ret = arg\n",
    "        for i in range(n):\n",
    "            ret = f(ret)\n",
    "        return ret\n",
    "    \n",
    "    return iterf"
   ]
  },
  {
   "cell_type": "code",
   "execution_count": null,
   "metadata": {},
   "outputs": [],
   "source": [
    "with Terrarium() as t:\n",
    "    t1 = Turtle(t)\n",
    "    \n",
    "    for f in iterated(kochiter, 4)(segment):\n",
    "        f(t1)"
   ]
  },
  {
   "cell_type": "code",
   "execution_count": null,
   "metadata": {},
   "outputs": [],
   "source": [
    "def turtle_run(self, steps):\n",
    "    for step in steps:\n",
    "        step(self)\n",
    "        \n",
    "Turtle.run = turtle_run"
   ]
  },
  {
   "cell_type": "code",
   "execution_count": null,
   "metadata": {},
   "outputs": [],
   "source": [
    "with Terrarium() as t:\n",
    "    Turtle(t).run(iterated(kochiter, 4)(segment))"
   ]
  },
  {
   "cell_type": "code",
   "execution_count": null,
   "metadata": {},
   "outputs": [],
   "source": [
    "triangle = [F(100),L(-120),F(100),L(-120),F(100)]"
   ]
  },
  {
   "cell_type": "code",
   "execution_count": null,
   "metadata": {},
   "outputs": [],
   "source": [
    "with Terrarium() as t:\n",
    "    Turtle(t).run(triangle)"
   ]
  },
  {
   "cell_type": "code",
   "execution_count": null,
   "metadata": {},
   "outputs": [],
   "source": [
    "with Terrarium() as t:\n",
    "    Turtle(t).run(iterated(kochiter, 4)(triangle))"
   ]
  },
  {
   "cell_type": "code",
   "execution_count": null,
   "metadata": {},
   "outputs": [],
   "source": []
  }
 ],
 "metadata": {
  "anaconda-cloud": {},
  "kernelspec": {
   "display_name": "Python 3",
   "language": "python",
   "name": "python3"
  },
  "language_info": {
   "codemirror_mode": {
    "name": "ipython",
    "version": 3
   },
   "file_extension": ".py",
   "mimetype": "text/x-python",
   "name": "python",
   "nbconvert_exporter": "python",
   "pygments_lexer": "ipython3",
   "version": "3.7.6"
  }
 },
 "nbformat": 4,
 "nbformat_minor": 1
}
