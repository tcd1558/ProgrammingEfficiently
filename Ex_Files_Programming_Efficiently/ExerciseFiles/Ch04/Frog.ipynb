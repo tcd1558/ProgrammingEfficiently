{
 "cells": [
  {
   "cell_type": "code",
   "execution_count": 88,
   "id": "ce439197",
   "metadata": {},
   "outputs": [],
   "source": [
    "import math\n",
    "import matplotlib.pyplot as plt\n",
    "\n",
    "%matplotlib inline"
   ]
  },
  {
   "cell_type": "code",
   "execution_count": 162,
   "id": "27774f49",
   "metadata": {},
   "outputs": [],
   "source": [
    "class Terrarium:\n",
    "    def __init__(self):\n",
    "        self.fig=plt.figure(figsize=(3,3))\n",
    "        self.axes=plt.axes()\n",
    "\n",
    "        self.axes.set_xticks([])\n",
    "        self.axes.set_yticks([])\n",
    "        \n",
    "        for spine in ['bottom','top','left','right']:\n",
    "            self.axes.spines[spine].set_color('0.9')\n",
    "    \n",
    "    # rescale has to be a separate function, so you can create the figure (via Terrarium.__init__, draw something, and \n",
    "    # now that the drawing is done, you can show the figure with an added margin\n",
    "    def rescale(self):\n",
    "        self.axes.axis('scaled')\n",
    "\n",
    "        xmin, xmax, ymin, ymax = self.axes.axis()\n",
    "        dx = (xmax - xmin) / 50\n",
    "        self.axes.axis([xmin-dx,xmax+dx,ymin-dx,ymax+dx])\n"
   ]
  },
  {
   "cell_type": "code",
   "execution_count": 163,
   "id": "7636b987",
   "metadata": {},
   "outputs": [],
   "source": [
    "class Turtle:\n",
    "    \n",
    "    def __init__(self, terrarium):\n",
    "        self.pos=(0,0)\n",
    "        self.angle=0\n",
    "        self.pen=True\n",
    "            \n",
    "        self.axes = terrarium.axes\n",
    "    \n",
    "    deg = math.pi / 180\n",
    "    \n",
    "    def forward(self, distance):\n",
    "        posnew = (self.pos[0] + distance * math.cos(self.deg * self.angle),\n",
    "                  self.pos[1] + distance * math.sin(self.deg * self.angle))\n",
    "    \n",
    "        if self.pen:\n",
    "            # if pen is down, add line to the axes \n",
    "            line = plt.Line2D((self.pos[0],posnew[0]), (self.pos[1],posnew[1]))\n",
    "            self.axes.add_line(line)\n",
    "        \n",
    "        self.pos = posnew\n",
    "        \n",
    "    def back(self):\n",
    "        distance=1\n",
    "        self.forward(-1 * distance)\n",
    "        \n",
    "    def left(self):\n",
    "        self.angle=self.angle+45\n",
    "        self.forward(1)\n",
    "    \n",
    "    def right(self):\n",
    "        self.angle=self.angle-45\n",
    "        self.forward(1)\n",
    "        \n",
    "    def penup(self):\n",
    "        if(self.pen):\n",
    "            pass\n",
    "            #self.tracks.append(self.track)\n",
    "        self.pen=False\n",
    "        \n",
    "    def pendown(self):\n",
    "        if(not self.pen):\n",
    "            pass\n",
    "            #self.track=[[0],[0]]\n",
    "        self.pen=True\n",
    "              \n",
    "    def show_pos(self):\n",
    "        print(self.pos)"
   ]
  },
  {
   "cell_type": "code",
   "execution_count": 164,
   "id": "3a9817d6",
   "metadata": {},
   "outputs": [
    {
     "data": {
      "image/png": "[encoded data removed]",
      "text/plain": [
       "<Figure size 216x216 with 1 Axes>"
      ]
     },
     "metadata": {},
     "output_type": "display_data"
    }
   ],
   "source": [
    "t = Terrarium()"
   ]
  },
  {
   "cell_type": "code",
   "execution_count": 165,
   "id": "26a07e72",
   "metadata": {},
   "outputs": [
    {
     "name": "stdout",
     "output_type": "stream",
     "text": [
      "<class '__main__.Turtle'>\n",
      "(0, 0)\n",
      "(1.0, 0.0)\n",
      "(2.0, 0.0)\n",
      "(2.7071067811865475, 0.7071067811865475)\n",
      "(2.7071067811865475, 1.7071067811865475)\n",
      "(2.7071067811865475, 2.7071067811865475)\n",
      "(3.414213562373095, 3.414213562373095)\n",
      "(2.7071067811865475, 2.7071067811865475)\n",
      "(2.0, 2.0)\n",
      "(2.0, 3.0)\n",
      "(2.0, 4.0)\n",
      "(2.0, 5.0)\n",
      "(2.7071067811865475, 5.707106781186548)\n",
      "<class '__main__.Terrarium'>\n"
     ]
    },
    {
     "data": {
      "image/png": "[encoded data removed]",
      "text/plain": [
       "<Figure size 216x216 with 1 Axes>"
      ]
     },
     "metadata": {},
     "output_type": "display_data"
    }
   ],
   "source": [
    "t = Terrarium() # This line has to be there to create output\n",
    "    # and all commands have to follow in the same box in order to display correctly\n",
    "t1 = Turtle(t)\n",
    "print(type(t1))\n",
    "t1.angle\n",
    "t1.show_pos()\n",
    "t1.forward(1)\n",
    "t1.show_pos()\n",
    "t1.forward(1)\n",
    "t1.show_pos()\n",
    "t1.left()\n",
    "t1.show_pos()\n",
    "t1.left()\n",
    "t1.show_pos()\n",
    "t1.forward(1)\n",
    "t1.show_pos()\n",
    "t1.right()\n",
    "t1.show_pos()\n",
    "t1.back()\n",
    "t1.show_pos()\n",
    "t1.back()\n",
    "t1.show_pos()\n",
    "t1.left()\n",
    "t1.show_pos()\n",
    "t1.forward(1)\n",
    "t1.show_pos()\n",
    "t1.forward(1)\n",
    "t1.show_pos()\n",
    "t1.right()\n",
    "t1.show_pos()\n",
    "print(type(t))\n",
    "t.rescale()"
   ]
  },
  {
   "cell_type": "code",
   "execution_count": 151,
   "id": "42cb03e9",
   "metadata": {},
   "outputs": [],
   "source": [
    "class Library:\n",
    "    def __init__(self):\n",
    "        self.book=True"
   ]
  },
  {
   "cell_type": "code",
   "execution_count": null,
   "id": "865fd5cb",
   "metadata": {},
   "outputs": [],
   "source": [
    "libraryOfAlexandria = Library()"
   ]
  },
  {
   "cell_type": "code",
   "execution_count": null,
   "id": "d136dd39",
   "metadata": {},
   "outputs": [],
   "source": [
    "# Define figure\n",
    "fig=plt.figure(figsize=(3,3))\n",
    "axes=plt.axes()\n",
    "\n",
    "# Define line type and x'ses and y's\n",
    "line=plt.Line2D((0,1),(0,1))\n",
    "# Add the line to the plot\n",
    "axes.add_line(line)"
   ]
  },
  {
   "cell_type": "code",
   "execution_count": null,
   "id": "e01004f4",
   "metadata": {},
   "outputs": [],
   "source": [
    "# Define figure\n",
    "fig=plt.figure(figsize=(3,3))\n",
    "axes=plt.axes()\n",
    "\n",
    "# Define line type and x'ses and y's\n",
    "line=plt.Line2D((0,1),(0,1))\n",
    "# Add the line to the plot\n",
    "axes.add_line(line)\n",
    "\n",
    "# Set x-ticks and y-ticks to nothing\n",
    "axes.set_xticks([])\n",
    "axes.set_yticks([])"
   ]
  },
  {
   "cell_type": "code",
   "execution_count": null,
   "id": "96326721",
   "metadata": {},
   "outputs": [],
   "source": [
    "# Define figure\n",
    "fig=plt.figure(figsize=(3,3))\n",
    "axes=plt.axes()\n",
    "\n",
    "# Define line type and x'ses and y's\n",
    "line=plt.Line2D((0,1),(0,1))\n",
    "# Add the line to the plot\n",
    "axes.add_line(line)\n",
    "\n",
    "# Set x-ticks and y-ticks to nothing\n",
    "axes.set_xticks([])\n",
    "axes.set_yticks([])\n",
    "\n",
    "# change color of box\n",
    "for spine in ['bottom','top','left','right']:\n",
    "    axes.spines[spine].set_color('0.9')"
   ]
  },
  {
   "cell_type": "code",
   "execution_count": null,
   "id": "b2281586",
   "metadata": {},
   "outputs": [],
   "source": [
    "# Define figure\n",
    "fig=plt.figure(figsize=(3,3))\n",
    "axes=plt.axes()\n",
    "\n",
    "# Define line type and x'ses and y's\n",
    "line=plt.Line2D((0,1),(0,1))\n",
    "# Add the line to the plot\n",
    "axes.add_line(line)\n",
    "\n",
    "# Set x-ticks and y-ticks to nothing\n",
    "axes.set_xticks([])\n",
    "axes.set_yticks([])\n",
    "\n",
    "# change color of box\n",
    "for spine in ['bottom','top','left','right']:\n",
    "    axes.spines[spine].set_color('0.9')\n",
    "    \n",
    "# rescale axes to fit drawing\n",
    "axes.axis('scaled')"
   ]
  },
  {
   "cell_type": "code",
   "execution_count": null,
   "id": "05c29a67",
   "metadata": {},
   "outputs": [],
   "source": [
    "# Define figure\n",
    "fig=plt.figure(figsize=(3,3))\n",
    "axes=plt.axes()\n",
    "\n",
    "# Define line type and x'ses and y's\n",
    "line=plt.Line2D((0,1),(0,1))\n",
    "# Add the line to the plot\n",
    "axes.add_line(line)\n",
    "\n",
    "# Set x-ticks and y-ticks to nothing\n",
    "axes.set_xticks([])\n",
    "axes.set_yticks([])\n",
    "\n",
    "# change color of box\n",
    "for spine in ['bottom','top','left','right']:\n",
    "    axes.spines[spine].set_color('0.9')\n",
    "    \n",
    "# rescale axes to fit drawing\n",
    "axes.axis('scaled')\n",
    "\n",
    "# add a small border/margin\n",
    "xmin, xmax, ymin, ymax = axes.axis()\n",
    "dx = (xmax - xmin) / 50\n",
    "axes.axis([xmin-dx,xmax+dx,ymin-dx,ymax+dx]);  # semicolon avoid printing out object"
   ]
  },
  {
   "cell_type": "code",
   "execution_count": null,
   "id": "0873cf51",
   "metadata": {},
   "outputs": [],
   "source": [
    "track=[[0,2],[1,3]]"
   ]
  },
  {
   "cell_type": "code",
   "execution_count": null,
   "id": "ee61e8cb",
   "metadata": {},
   "outputs": [],
   "source": [
    "track"
   ]
  },
  {
   "cell_type": "code",
   "execution_count": null,
   "id": "bcf09644",
   "metadata": {},
   "outputs": [],
   "source": [
    "type(track)"
   ]
  },
  {
   "cell_type": "code",
   "execution_count": null,
   "id": "423ec9d9",
   "metadata": {},
   "outputs": [],
   "source": [
    "track[0]"
   ]
  },
  {
   "cell_type": "code",
   "execution_count": null,
   "id": "b2acc5b5",
   "metadata": {},
   "outputs": [],
   "source": [
    "type(track[0])"
   ]
  },
  {
   "cell_type": "code",
   "execution_count": null,
   "id": "52289dcd",
   "metadata": {},
   "outputs": [],
   "source": [
    "track[1]"
   ]
  },
  {
   "cell_type": "raw",
   "id": "402f62e6",
   "metadata": {},
   "source": [
    "track[0].append(1)"
   ]
  },
  {
   "cell_type": "code",
   "execution_count": null,
   "id": "4714b3a8",
   "metadata": {},
   "outputs": [],
   "source": [
    "track[0]"
   ]
  },
  {
   "cell_type": "code",
   "execution_count": null,
   "id": "18ac73ab",
   "metadata": {},
   "outputs": [],
   "source": [
    "track[0].extend([1])"
   ]
  },
  {
   "cell_type": "code",
   "execution_count": null,
   "id": "000c89d2",
   "metadata": {},
   "outputs": [],
   "source": [
    "track[0]"
   ]
  },
  {
   "cell_type": "code",
   "execution_count": null,
   "id": "1579de4c",
   "metadata": {},
   "outputs": [],
   "source": [
    "track[1].extend([3,5,7,9])"
   ]
  },
  {
   "cell_type": "code",
   "execution_count": null,
   "id": "986f6675",
   "metadata": {},
   "outputs": [],
   "source": [
    "track[1]"
   ]
  },
  {
   "cell_type": "code",
   "execution_count": null,
   "id": "e3f8faa7",
   "metadata": {},
   "outputs": [],
   "source": [
    "track"
   ]
  },
  {
   "cell_type": "code",
   "execution_count": null,
   "id": "4702b72f",
   "metadata": {},
   "outputs": [],
   "source": [
    "my_list=[1,2,3,4]"
   ]
  },
  {
   "cell_type": "code",
   "execution_count": null,
   "id": "84637b26",
   "metadata": {},
   "outputs": [],
   "source": [
    "my_list"
   ]
  },
  {
   "cell_type": "code",
   "execution_count": null,
   "id": "536dfe76",
   "metadata": {},
   "outputs": [],
   "source": [
    "my_list.append(5)"
   ]
  },
  {
   "cell_type": "code",
   "execution_count": null,
   "id": "f8d94166",
   "metadata": {},
   "outputs": [],
   "source": [
    "my_list"
   ]
  },
  {
   "cell_type": "code",
   "execution_count": null,
   "id": "9c03a742",
   "metadata": {},
   "outputs": [],
   "source": []
  }
 ],
 "metadata": {
  "kernelspec": {
   "display_name": "Python 3 (ipykernel)",
   "language": "python",
   "name": "python3"
  },
  "language_info": {
   "codemirror_mode": {
    "name": "ipython",
    "version": 3
   },
   "file_extension": ".py",
   "mimetype": "text/x-python",
   "name": "python",
   "nbconvert_exporter": "python",
   "pygments_lexer": "ipython3",
   "version": "3.9.12"
  }
 },
 "nbformat": 4,
 "nbformat_minor": 5
}
