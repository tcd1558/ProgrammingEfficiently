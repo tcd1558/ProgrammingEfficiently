{
 "cells": [
  {
   "cell_type": "markdown",
   "metadata": {},
   "source": [
    "## 03_08: Image-editor solution"
   ]
  },
  {
   "cell_type": "code",
   "execution_count": null,
   "metadata": {},
   "outputs": [],
   "source": [
    "import PIL\n",
    "import PIL.Image\n",
    "import PIL.ImageOps\n",
    "import PIL.ImageEnhance\n",
    "import PIL.ImageFilter"
   ]
  },
  {
   "cell_type": "code",
   "execution_count": null,
   "metadata": {},
   "outputs": [],
   "source": [
    "import ipywidgets"
   ]
  },
  {
   "cell_type": "code",
   "execution_count": null,
   "metadata": {},
   "outputs": [],
   "source": [
    "img = PIL.Image.open('cached/20130903_002924_512_0171.jpg')"
   ]
  },
  {
   "cell_type": "code",
   "execution_count": null,
   "metadata": {},
   "outputs": [],
   "source": [
    "PIL.ImageEnhance.Brightness(img).enhance(1.5)"
   ]
  },
  {
   "cell_type": "code",
   "execution_count": null,
   "metadata": {},
   "outputs": [],
   "source": [
    "PIL.ImageEnhance.Color(\n",
    "    PIL.ImageEnhance.Contrast(\n",
    "        PIL.ImageEnhance.Brightness(img).enhance(1.5)\n",
    "    ).enhance(3.0)\n",
    ").enhance(2.0)"
   ]
  },
  {
   "cell_type": "code",
   "execution_count": null,
   "metadata": {},
   "outputs": [],
   "source": [
    "def adjust(color, contrast, brightness):\n",
    "    return PIL.ImageEnhance.Color(\n",
    "        PIL.ImageEnhance.Contrast(\n",
    "            PIL.ImageEnhance.Brightness(img).enhance(brightness)\n",
    "        ).enhance(contrast)\n",
    "    ).enhance(color)"
   ]
  },
  {
   "cell_type": "code",
   "execution_count": null,
   "metadata": {},
   "outputs": [],
   "source": [
    "color_control = ipywidgets.FloatSlider(min=0.1, max=4, step=0.05, value=1, continuous_update=False)\n",
    "contrast_control = ipywidgets.FloatSlider(min=0.1, max=4, step=0.05, value=1, continuous_update=False)\n",
    "brightness_control = ipywidgets.FloatSlider(min=0.1, max=4, step=0.05, value=1, continuous_update=False)"
   ]
  },
  {
   "cell_type": "code",
   "execution_count": null,
   "metadata": {},
   "outputs": [],
   "source": [
    "ipywidgets.interact(adjust, color=color_control,\n",
    "                            contrast=contrast_control,\n",
    "                            brightness=brightness_control)"
   ]
  },
  {
   "cell_type": "code",
   "execution_count": null,
   "metadata": {},
   "outputs": [],
   "source": []
  }
 ],
 "metadata": {
  "kernelspec": {
   "display_name": "Python 3",
   "language": "python",
   "name": "python3"
  },
  "language_info": {
   "codemirror_mode": {
    "name": "ipython",
    "version": 3
   },
   "file_extension": ".py",
   "mimetype": "text/x-python",
   "name": "python",
   "nbconvert_exporter": "python",
   "pygments_lexer": "ipython3",
   "version": "3.7.6"
  }
 },
 "nbformat": 4,
 "nbformat_minor": 4
}
