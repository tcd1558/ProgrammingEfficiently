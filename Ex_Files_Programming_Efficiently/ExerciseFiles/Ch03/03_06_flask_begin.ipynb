{
 "cells": [
  {
   "cell_type": "markdown",
   "metadata": {},
   "source": [
    "## 03_06: Serve webpages with flask"
   ]
  },
  {
   "cell_type": "markdown",
   "metadata": {},
   "source": [
    "* Flask: https://flask.palletsprojects.com"
   ]
  },
  {
   "cell_type": "code",
   "execution_count": null,
   "metadata": {},
   "outputs": [],
   "source": [
    "import io\n",
    "import base64\n",
    "\n",
    "import requests\n",
    "import bs4\n",
    "\n",
    "import PIL.Image\n",
    "import PIL.ImageOps\n",
    "import PIL.ImageEnhance"
   ]
  },
  {
   "cell_type": "code",
   "execution_count": null,
   "metadata": {},
   "outputs": [],
   "source": [
    "def getstereo(date):\n",
    "    # get SDO index for date, find all 512x512 171-angstrom images \n",
    "    indexreq = requests.get(f'https://sdo.gsfc.nasa.gov/assets/img/browse/{date}')\n",
    "    soup = bs4.BeautifulSoup(indexreq.content, 'lxml')\n",
    "    filenames = [link.string for link in soup.pre.find_all('a')\n",
    "                             if link.string.endswith('512_0171.jpg')]\n",
    "    \n",
    "    # get two images across the day\n",
    "    images = []\n",
    "    # note integer division in case there's an odd number\n",
    "    for filename in [filenames[0], filenames[len(filenames)//2]]:\n",
    "        imagereq = requests.get(f'https://sdo.gsfc.nasa.gov/assets/img/browse/{date}/{filename}')\n",
    "        images.append(PIL.Image.open(io.BytesIO(imagereq.content)))\n",
    "    \n",
    "    # grayscale + colorize the two images\n",
    "    red  = PIL.ImageOps.colorize(images[0].convert('L'), (0,0,0), (255,0,0))\n",
    "    cyan = PIL.ImageOps.colorize(images[1].convert('L'), (0,0,0), (0,255,255))\n",
    "\n",
    "    # blend and adjust brightness\n",
    "    blend = PIL.Image.blend(red, cyan, 0.5)\n",
    "    final = PIL.ImageEnhance.Brightness(blend).enhance(2.5)\n",
    "    \n",
    "    return final"
   ]
  },
  {
   "cell_type": "code",
   "execution_count": null,
   "metadata": {},
   "outputs": [],
   "source": [
    "img = getstereo('2016/05/09')"
   ]
  },
  {
   "cell_type": "code",
   "execution_count": null,
   "metadata": {},
   "outputs": [],
   "source": [
    "img"
   ]
  },
  {
   "cell_type": "markdown",
   "metadata": {},
   "source": [
    "* `getstereo.py` containns this code.\n",
    "* Use `getstereo.getcached()` if `getstereo.getstereo()` fails because of web problems"
   ]
  },
  {
   "cell_type": "code",
   "execution_count": null,
   "metadata": {},
   "outputs": [],
   "source": [
    "%%file server.py\n",
    "\n",
    "import flask\n",
    "\n",
    "app = flask.Flask(__name__)\n",
    "\n",
    "@app.route('/')\n",
    "def hello_world():\n",
    "    return flask.Response('<html><body><p>Hello, world!</p></body></html>')\n",
    "\n",
    "app.run(host='0.0.0.0')"
   ]
  },
  {
   "cell_type": "code",
   "execution_count": null,
   "metadata": {},
   "outputs": [],
   "source": [
    "%%file server.py\n",
    "\n",
    "import flask\n",
    "\n",
    "import getstereo\n",
    "\n",
    "app = flask.Flask(__name__)\n",
    "\n",
    "@app.route('/<year>/<month>/<day>')\n",
    "def getimage(year, month, day):\n",
    "    stereo = getstereo.getstereo(f'{year}/{month}/{day}')\n",
    "    return flask.Response(\"Got it!\")\n",
    "\n",
    "app.run(host='0.0.0.0')"
   ]
  },
  {
   "cell_type": "code",
   "execution_count": null,
   "metadata": {},
   "outputs": [],
   "source": [
    "buffer = io.BytesIO()\n",
    "img.save(buffer, format='PNG')"
   ]
  },
  {
   "cell_type": "code",
   "execution_count": null,
   "metadata": {},
   "outputs": [],
   "source": [
    "buffer.getvalue()[:100]"
   ]
  },
  {
   "cell_type": "code",
   "execution_count": null,
   "metadata": {},
   "outputs": [],
   "source": [
    "base64.b64encode(buffer.getvalue())[:100]"
   ]
  },
  {
   "cell_type": "code",
   "execution_count": null,
   "metadata": {},
   "outputs": [],
   "source": [
    "b64image = base64.b64encode(buffer.getvalue()).decode('ascii')"
   ]
  },
  {
   "cell_type": "code",
   "execution_count": null,
   "metadata": {},
   "outputs": [],
   "source": [
    "f'<img src=\"data:image/png;base64,{b64image}\"/>'"
   ]
  },
  {
   "cell_type": "code",
   "execution_count": null,
   "metadata": {},
   "outputs": [],
   "source": [
    "import IPython\n",
    "IPython.display.HTML(data=f'<img src=\"data:image/png;base64,{b64image}\"/>')"
   ]
  },
  {
   "cell_type": "code",
   "execution_count": null,
   "metadata": {},
   "outputs": [],
   "source": [
    "%%file server.py\n",
    "\n",
    "import flask\n",
    "\n",
    "import getstereo\n",
    "\n",
    "app = flask.Flask(__name__)\n",
    "\n",
    "@app.route('/<year>/<month>/<day>')\n",
    "def getimage(year, month, day):\n",
    "    stereo = getstereo.getstereo(f'{year}/{month}/{day}')\n",
    "    inline = getstereo.makebase64(stereo)\n",
    "    \n",
    "    return flask.Response(f'<html><body>{inline}</body></html>')\n",
    "\n",
    "app.run(host='0.0.0.0')"
   ]
  },
  {
   "cell_type": "code",
   "execution_count": null,
   "metadata": {},
   "outputs": [],
   "source": []
  }
 ],
 "metadata": {
  "anaconda-cloud": {},
  "kernelspec": {
   "display_name": "Python 3",
   "language": "python",
   "name": "python3"
  },
  "language_info": {
   "codemirror_mode": {
    "name": "ipython",
    "version": 3
   },
   "file_extension": ".py",
   "mimetype": "text/x-python",
   "name": "python",
   "nbconvert_exporter": "python",
   "pygments_lexer": "ipython3",
   "version": "3.7.6"
  },
  "toc": {
   "base_numbering": 1,
   "nav_menu": {},
   "number_sections": true,
   "sideBar": true,
   "skip_h1_title": false,
   "title_cell": "Table of Contents",
   "title_sidebar": "Contents",
   "toc_cell": false,
   "toc_position": {},
   "toc_section_display": true,
   "toc_window_display": false
  }
 },
 "nbformat": 4,
 "nbformat_minor": 1
}
