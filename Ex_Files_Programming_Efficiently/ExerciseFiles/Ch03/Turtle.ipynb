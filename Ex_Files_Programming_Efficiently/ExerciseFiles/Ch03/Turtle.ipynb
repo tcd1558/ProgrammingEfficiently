{
 "cells": [
  {
   "cell_type": "code",
   "execution_count": 673,
   "id": "ce439197",
   "metadata": {},
   "outputs": [],
   "source": [
    "import math\n",
    "import matplotlib.pyplot as plt"
   ]
  },
  {
   "cell_type": "code",
   "execution_count": 674,
   "id": "611e480a",
   "metadata": {},
   "outputs": [],
   "source": [
    "class Canvas():\n",
    "    \n",
    "    def __init__(self):\n",
    "        # Define figure\n",
    "        self.fig=plt.figure(figsize=(3,3))\n",
    "        self.axes=plt.axes()\n",
    "\n",
    "        # Define line type with x'ses and y's\n",
    "        #line=plt.Line2D((0,1),(0,1))\n",
    "        # Add the line to the plot\n",
    "        #self.axes.add_line(line)\n",
    "        \n",
    "        # Set x-ticks and y-ticks to nothing\n",
    "        self.axes.set_xticks([])\n",
    "        self.axes.set_yticks([])\n",
    "        \n",
    "        # change color of box\n",
    "        for spine in ['bottom','top','left','right']:\n",
    "            self.axes.spines[spine].set_color('0.9')\n",
    "    \n",
    "        # rescale axes to fit drawing\n",
    "        #self.axes.axis('scaled')\n",
    "\n",
    "        # add a small border/margin\n",
    "        #xmin, xmax, ymin, ymax = axes.axis()\n",
    "        #dx = (xmax - xmin) / 50\n",
    "        #self.axes.axis([xmin-dx,xmax+dx,ymin-dx,ymax+dx]);  # semicolon avoid printing out object\n",
    "        \n",
    "    def rescale(self):\n",
    "        self.axes.axis('scaled')\n",
    "\n",
    "        xmin, xmax, ymin, ymax = self.axes.axis()\n",
    "        dx = (xmax - xmin) / 50\n",
    "        self.axes.axis([xmin-dx,xmax+dx,ymin-dx,ymax+dx]) "
   ]
  },
  {
   "cell_type": "code",
   "execution_count": 675,
   "id": "7636b987",
   "metadata": {},
   "outputs": [],
   "source": [
    "class Turtle:\n",
    "    \n",
    "    deg = math.pi / 180\n",
    "    \n",
    "    def __init__(self, canvas):\n",
    "        self.position=(0,0)\n",
    "        self.angle=0\n",
    "        self.pen=True\n",
    "            \n",
    "        self.axes = canvas.axes\n",
    "        \n",
    "    def forward(self):\n",
    "        distance=1\n",
    "        new_position = (self.position[0] + (distance * math.cos(self.deg * self.angle)),\n",
    "                        self.position[1] + (distance * math.sin(self.deg * self.angle)))\n",
    "                           \n",
    "        if self.pen:\n",
    "            # pass\n",
    "            # if pen is down, add line to the axes \n",
    "            line = plt.Line2D((self.position[0],new_position[0]), (self.position[1],new_position[1]))\n",
    "            # self.make_plot()\n",
    "            self.axes.add_line(line)\n",
    "            \n",
    "        self.position = new_position\n",
    "        \n",
    "    def back(self):\n",
    "        distance=1\n",
    "        new_position = (self.position[0] - (distance * math.cos(self.deg * self.angle)),\n",
    "                        self.position[1] - (distance * math.sin(self.deg * self.angle)))\n",
    "        if self.pen:\n",
    "            # pass\n",
    "            # if pen is down, add line to the axes \n",
    "            line = plt.Line2D((self.position[0],new_position[0]), (self.position[1],new_position[1]))\n",
    "            # self.make_plot()\n",
    "            self.axes.add_line(line)\n",
    "            \n",
    "        self.position = new_position\n",
    "            \n",
    "        if self.pen:\n",
    "            pass\n",
    "            #self.make_plot()\n",
    "        \n",
    "    def left(self):\n",
    "        self.angle=self.angle+45\n",
    "        self.forward()\n",
    "    \n",
    "    def right(self):\n",
    "        self.angle=self.angle-45\n",
    "        self.forward()\n",
    "        \n",
    "    def penup(self):\n",
    "        if(self.pen):\n",
    "            pass\n",
    "            #self.tracks.append(self.track)\n",
    "        self.pen=False\n",
    "        \n",
    "    def pendown(self):\n",
    "        if(not self.pen):\n",
    "            pass\n",
    "            #self.track=[[0],[0]]\n",
    "        self.pen=True\n",
    "              \n",
    "    def show_position(self):\n",
    "        print(self.position)"
   ]
  },
  {
   "cell_type": "code",
   "execution_count": 676,
   "id": "51b1398a",
   "metadata": {},
   "outputs": [
    {
     "data": {
      "image/png": "[encoded data removed]",
      "text/plain": [
       "<Figure size 216x216 with 1 Axes>"
      ]
     },
     "metadata": {},
     "output_type": "display_data"
    }
   ],
   "source": [
    "paper = Canvas()"
   ]
  },
  {
   "cell_type": "code",
   "execution_count": 706,
   "id": "26a07e72",
   "metadata": {},
   "outputs": [
    {
     "name": "stdout",
     "output_type": "stream",
     "text": [
      "(0, 0)\n"
     ]
    },
    {
     "data": {
      "image/png": "[encoded data removed]",
      "text/plain": [
       "<Figure size 216x216 with 1 Axes>"
      ]
     },
     "metadata": {},
     "output_type": "display_data"
    }
   ],
   "source": [
    "paper = Canvas()\n",
    "obj = Turtle(paper)\n",
    "obj.show_position()"
   ]
  },
  {
   "cell_type": "code",
   "execution_count": 707,
   "id": "ce5ee7c9",
   "metadata": {},
   "outputs": [
    {
     "data": {
      "text/plain": [
       "__main__.Turtle"
      ]
     },
     "execution_count": 707,
     "metadata": {},
     "output_type": "execute_result"
    }
   ],
   "source": [
    "type(obj)"
   ]
  },
  {
   "cell_type": "code",
   "execution_count": 679,
   "id": "b0818cff",
   "metadata": {},
   "outputs": [
    {
     "data": {
      "text/plain": [
       "0"
      ]
     },
     "execution_count": 679,
     "metadata": {},
     "output_type": "execute_result"
    }
   ],
   "source": [
    "obj.angle"
   ]
  },
  {
   "cell_type": "code",
   "execution_count": 680,
   "id": "4e0c9ba2",
   "metadata": {},
   "outputs": [
    {
     "name": "stdout",
     "output_type": "stream",
     "text": [
      "(0, 0)\n"
     ]
    }
   ],
   "source": [
    "obj.show_position()"
   ]
  },
  {
   "cell_type": "code",
   "execution_count": 681,
   "id": "35cf361a",
   "metadata": {},
   "outputs": [
    {
     "name": "stdout",
     "output_type": "stream",
     "text": [
      "(0, 0)\n",
      "(1.0, 0.0)\n",
      "(2.0, 0.0)\n"
     ]
    }
   ],
   "source": [
    "obj.show_position()\n",
    "obj.forward()\n",
    "obj.show_position()\n",
    "obj.forward()\n",
    "obj.show_position()\n",
    "#obj.left()\n",
    "#obj.show_position()\n",
    "#obj.left()\n",
    "#obj.show_position()\n",
    "#obj.forward()\n",
    "#obj.show_position()\n",
    "#obj.right()\n",
    "#obj.show_position()\n",
    "#obj.back()\n",
    "#obj.show_position()\n",
    "#obj.forward()\n",
    "#obj.show_position()\n",
    "#obj.forward()\n",
    "#obj.show_position()\n",
    "#obj.right()\n",
    "#obj.show_position()"
   ]
  },
  {
   "cell_type": "code",
   "execution_count": 682,
   "id": "748ead3b",
   "metadata": {},
   "outputs": [
    {
     "name": "stdout",
     "output_type": "stream",
     "text": [
      "(2.0, 0.0)\n"
     ]
    }
   ],
   "source": [
    "obj.show_position()"
   ]
  },
  {
   "cell_type": "code",
   "execution_count": 683,
   "id": "f58ddb5c",
   "metadata": {},
   "outputs": [
    {
     "data": {
      "text/plain": [
       "__main__.Canvas"
      ]
     },
     "execution_count": 683,
     "metadata": {},
     "output_type": "execute_result"
    }
   ],
   "source": [
    "type(paper)"
   ]
  },
  {
   "cell_type": "code",
   "execution_count": 684,
   "id": "46ab94ed",
   "metadata": {},
   "outputs": [],
   "source": [
    "#paper.draw_line(obj.track[0], obj.track[1])\n",
    "paper.rescale()"
   ]
  },
  {
   "cell_type": "code",
   "execution_count": null,
   "id": "42cb03e9",
   "metadata": {},
   "outputs": [],
   "source": [
    "class Library:\n",
    "    def __init__(self):\n",
    "        self.book=True"
   ]
  },
  {
   "cell_type": "code",
   "execution_count": null,
   "id": "865fd5cb",
   "metadata": {},
   "outputs": [],
   "source": [
    "libraryOfAlexandria = Library()"
   ]
  },
  {
   "cell_type": "code",
   "execution_count": 685,
   "id": "d136dd39",
   "metadata": {},
   "outputs": [
    {
     "data": {
      "text/plain": [
       "<matplotlib.lines.Line2D at 0x117dfbaf0>"
      ]
     },
     "execution_count": 685,
     "metadata": {},
     "output_type": "execute_result"
    },
    {
     "data": {
      "image/png": "[encoded data removed]",
      "text/plain": [
       "<Figure size 216x216 with 1 Axes>"
      ]
     },
     "metadata": {
      "needs_background": "light"
     },
     "output_type": "display_data"
    }
   ],
   "source": [
    "# Define figure\n",
    "fig=plt.figure(figsize=(3,3))\n",
    "axes=plt.axes()\n",
    "\n",
    "# Define line type and x'ses and y's\n",
    "line=plt.Line2D((0,1),(0,1))\n",
    "# Add the line to the plot\n",
    "axes.add_line(line)"
   ]
  },
  {
   "cell_type": "code",
   "execution_count": 686,
   "id": "e01004f4",
   "metadata": {},
   "outputs": [
    {
     "data": {
      "text/plain": [
       "[]"
      ]
     },
     "execution_count": 686,
     "metadata": {},
     "output_type": "execute_result"
    },
    {
     "data": {
      "image/png": "[encoded data removed]",
      "text/plain": [
       "<Figure size 216x216 with 1 Axes>"
      ]
     },
     "metadata": {},
     "output_type": "display_data"
    }
   ],
   "source": [
    "# Define figure\n",
    "fig=plt.figure(figsize=(3,3))\n",
    "axes=plt.axes()\n",
    "\n",
    "# Define line type and x'ses and y's\n",
    "line=plt.Line2D((0,1),(0,1))\n",
    "# Add the line to the plot\n",
    "axes.add_line(line)\n",
    "\n",
    "# Set x-ticks and y-ticks to nothing\n",
    "axes.set_xticks([])\n",
    "axes.set_yticks([])"
   ]
  },
  {
   "cell_type": "code",
   "execution_count": 687,
   "id": "96326721",
   "metadata": {},
   "outputs": [
    {
     "data": {
      "image/png": "[encoded data removed]",
      "text/plain": [
       "<Figure size 216x216 with 1 Axes>"
      ]
     },
     "metadata": {},
     "output_type": "display_data"
    }
   ],
   "source": [
    "# Define figure\n",
    "fig=plt.figure(figsize=(3,3))\n",
    "axes=plt.axes()\n",
    "\n",
    "# Define line type and x'ses and y's\n",
    "line=plt.Line2D((0,1),(0,1))\n",
    "# Add the line to the plot\n",
    "axes.add_line(line)\n",
    "\n",
    "# Set x-ticks and y-ticks to nothing\n",
    "axes.set_xticks([])\n",
    "axes.set_yticks([])\n",
    "\n",
    "# change color of box\n",
    "for spine in ['bottom','top','left','right']:\n",
    "    axes.spines[spine].set_color('0.9')"
   ]
  },
  {
   "cell_type": "code",
   "execution_count": 688,
   "id": "b2281586",
   "metadata": {},
   "outputs": [
    {
     "data": {
      "text/plain": [
       "(-0.05, 1.05, -0.05, 1.05)"
      ]
     },
     "execution_count": 688,
     "metadata": {},
     "output_type": "execute_result"
    },
    {
     "data": {
      "image/png": "[encoded data removed]",
      "text/plain": [
       "<Figure size 216x216 with 1 Axes>"
      ]
     },
     "metadata": {},
     "output_type": "display_data"
    }
   ],
   "source": [
    "# Define figure\n",
    "fig=plt.figure(figsize=(3,3))\n",
    "axes=plt.axes()\n",
    "\n",
    "# Define line type and x'ses and y's\n",
    "line=plt.Line2D((0,1),(0,1))\n",
    "# Add the line to the plot\n",
    "axes.add_line(line)\n",
    "\n",
    "# Set x-ticks and y-ticks to nothing\n",
    "axes.set_xticks([])\n",
    "axes.set_yticks([])\n",
    "\n",
    "# change color of box\n",
    "for spine in ['bottom','top','left','right']:\n",
    "    axes.spines[spine].set_color('0.9')\n",
    "    \n",
    "# rescale axes to fit drawing\n",
    "axes.axis('scaled')"
   ]
  },
  {
   "cell_type": "code",
   "execution_count": 689,
   "id": "05c29a67",
   "metadata": {},
   "outputs": [
    {
     "data": {
      "image/png": "[encoded data removed]",
      "text/plain": [
       "<Figure size 216x216 with 1 Axes>"
      ]
     },
     "metadata": {},
     "output_type": "display_data"
    }
   ],
   "source": [
    "# Define figure\n",
    "fig=plt.figure(figsize=(3,3))\n",
    "axes=plt.axes()\n",
    "\n",
    "# Define line type and x'ses and y's\n",
    "line=plt.Line2D((0,1),(0,1))\n",
    "# Add the line to the plot\n",
    "axes.add_line(line)\n",
    "\n",
    "# Set x-ticks and y-ticks to nothing\n",
    "axes.set_xticks([])\n",
    "axes.set_yticks([])\n",
    "\n",
    "# change color of box\n",
    "for spine in ['bottom','top','left','right']:\n",
    "    axes.spines[spine].set_color('0.9')\n",
    "    \n",
    "# rescale axes to fit drawing\n",
    "axes.axis('scaled')\n",
    "\n",
    "# add a small border/margin\n",
    "xmin, xmax, ymin, ymax = axes.axis()\n",
    "dx = (xmax - xmin) / 50\n",
    "axes.axis([xmin-dx,xmax+dx,ymin-dx,ymax+dx]);  # semicolon avoid printing out object"
   ]
  },
  {
   "cell_type": "code",
   "execution_count": 690,
   "id": "0873cf51",
   "metadata": {},
   "outputs": [],
   "source": [
    "track=[[0,2],[1,3]]"
   ]
  },
  {
   "cell_type": "code",
   "execution_count": 691,
   "id": "ee61e8cb",
   "metadata": {},
   "outputs": [
    {
     "data": {
      "text/plain": [
       "[[0, 2], [1, 3]]"
      ]
     },
     "execution_count": 691,
     "metadata": {},
     "output_type": "execute_result"
    }
   ],
   "source": [
    "track"
   ]
  },
  {
   "cell_type": "code",
   "execution_count": 692,
   "id": "bcf09644",
   "metadata": {},
   "outputs": [
    {
     "data": {
      "text/plain": [
       "list"
      ]
     },
     "execution_count": 692,
     "metadata": {},
     "output_type": "execute_result"
    }
   ],
   "source": [
    "type(track)"
   ]
  },
  {
   "cell_type": "code",
   "execution_count": 693,
   "id": "423ec9d9",
   "metadata": {},
   "outputs": [
    {
     "data": {
      "text/plain": [
       "[0, 2]"
      ]
     },
     "execution_count": 693,
     "metadata": {},
     "output_type": "execute_result"
    }
   ],
   "source": [
    "track[0]"
   ]
  },
  {
   "cell_type": "code",
   "execution_count": 694,
   "id": "b2acc5b5",
   "metadata": {},
   "outputs": [
    {
     "data": {
      "text/plain": [
       "list"
      ]
     },
     "execution_count": 694,
     "metadata": {},
     "output_type": "execute_result"
    }
   ],
   "source": [
    "type(track[0])"
   ]
  },
  {
   "cell_type": "code",
   "execution_count": 695,
   "id": "52289dcd",
   "metadata": {},
   "outputs": [
    {
     "data": {
      "text/plain": [
       "[1, 3]"
      ]
     },
     "execution_count": 695,
     "metadata": {},
     "output_type": "execute_result"
    }
   ],
   "source": [
    "track[1]"
   ]
  },
  {
   "cell_type": "raw",
   "id": "402f62e6",
   "metadata": {},
   "source": [
    "track[0].append(1)"
   ]
  },
  {
   "cell_type": "code",
   "execution_count": 696,
   "id": "4714b3a8",
   "metadata": {},
   "outputs": [
    {
     "data": {
      "text/plain": [
       "[0, 2]"
      ]
     },
     "execution_count": 696,
     "metadata": {},
     "output_type": "execute_result"
    }
   ],
   "source": [
    "track[0]"
   ]
  },
  {
   "cell_type": "code",
   "execution_count": 697,
   "id": "18ac73ab",
   "metadata": {},
   "outputs": [],
   "source": [
    "track[0].extend([1])"
   ]
  },
  {
   "cell_type": "code",
   "execution_count": 698,
   "id": "000c89d2",
   "metadata": {},
   "outputs": [
    {
     "data": {
      "text/plain": [
       "[0, 2, 1]"
      ]
     },
     "execution_count": 698,
     "metadata": {},
     "output_type": "execute_result"
    }
   ],
   "source": [
    "track[0]"
   ]
  },
  {
   "cell_type": "code",
   "execution_count": 699,
   "id": "1579de4c",
   "metadata": {},
   "outputs": [],
   "source": [
    "track[1].extend([3,5,7,9])"
   ]
  },
  {
   "cell_type": "code",
   "execution_count": 700,
   "id": "986f6675",
   "metadata": {},
   "outputs": [
    {
     "data": {
      "text/plain": [
       "[1, 3, 3, 5, 7, 9]"
      ]
     },
     "execution_count": 700,
     "metadata": {},
     "output_type": "execute_result"
    }
   ],
   "source": [
    "track[1]"
   ]
  },
  {
   "cell_type": "code",
   "execution_count": 701,
   "id": "e3f8faa7",
   "metadata": {},
   "outputs": [
    {
     "data": {
      "text/plain": [
       "[[0, 2, 1], [1, 3, 3, 5, 7, 9]]"
      ]
     },
     "execution_count": 701,
     "metadata": {},
     "output_type": "execute_result"
    }
   ],
   "source": [
    "track"
   ]
  },
  {
   "cell_type": "code",
   "execution_count": 702,
   "id": "4702b72f",
   "metadata": {},
   "outputs": [],
   "source": [
    "my_list=[1,2,3,4]"
   ]
  },
  {
   "cell_type": "code",
   "execution_count": 703,
   "id": "84637b26",
   "metadata": {},
   "outputs": [
    {
     "data": {
      "text/plain": [
       "[1, 2, 3, 4]"
      ]
     },
     "execution_count": 703,
     "metadata": {},
     "output_type": "execute_result"
    }
   ],
   "source": [
    "my_list"
   ]
  },
  {
   "cell_type": "code",
   "execution_count": 704,
   "id": "536dfe76",
   "metadata": {},
   "outputs": [],
   "source": [
    "my_list.append(5)"
   ]
  },
  {
   "cell_type": "code",
   "execution_count": 705,
   "id": "f8d94166",
   "metadata": {},
   "outputs": [
    {
     "data": {
      "text/plain": [
       "[1, 2, 3, 4, 5]"
      ]
     },
     "execution_count": 705,
     "metadata": {},
     "output_type": "execute_result"
    }
   ],
   "source": [
    "my_list"
   ]
  },
  {
   "cell_type": "code",
   "execution_count": null,
   "id": "9c03a742",
   "metadata": {},
   "outputs": [],
   "source": []
  }
 ],
 "metadata": {
  "kernelspec": {
   "display_name": "Python 3 (ipykernel)",
   "language": "python",
   "name": "python3"
  },
  "language_info": {
   "codemirror_mode": {
    "name": "ipython",
    "version": 3
   },
   "file_extension": ".py",
   "mimetype": "text/x-python",
   "name": "python",
   "nbconvert_exporter": "python",
   "pygments_lexer": "ipython3",
   "version": "3.9.12"
  }
 },
 "nbformat": 4,
 "nbformat_minor": 5
}
