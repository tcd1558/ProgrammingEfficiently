{
 "cells": [
  {
   "cell_type": "code",
   "execution_count": 506,
   "id": "ce439197",
   "metadata": {},
   "outputs": [],
   "source": [
    "import math\n",
    "import matplotlib.pyplot as plt"
   ]
  },
  {
   "cell_type": "code",
   "execution_count": 507,
   "id": "7636b987",
   "metadata": {},
   "outputs": [],
   "source": [
    "class Turtle:\n",
    "    \n",
    "    deg = math.pi / 180\n",
    "    \n",
    "    def __init__(self, canvas):\n",
    "        self.position=(0,0)\n",
    "        self.angle=0\n",
    "        self.pen=True\n",
    "            \n",
    "        self.axes=canvas.axes\n",
    "        \n",
    "    def forward(self):\n",
    "        start_position=self.position\n",
    "        new_position = (self.position[0] + (1 * math.cos(self.deg * self.angle)),\n",
    "                        self.position[1] + (1 * math.sin(self.deg * self.angle)))\n",
    "                           \n",
    "        if self.pen:\n",
    "            # pass\n",
    "            # if pen is down, add line to the axes \n",
    "            line = plt.Line2D((self.position[0],new_position[0]), (self.position[1],new_position[1]))\n",
    "            # self.make_plot()\n",
    "            self.axes.add_line(line)\n",
    "            \n",
    "        self.position = new_position\n",
    "        \n",
    "    def back(self):\n",
    "        start_position=self.position\n",
    "        new_position = (self.position[0] - (1 * math.cos(self.deg * self.angle)),\n",
    "                        self.position[1] - (1 * math.sin(self.deg * self.angle)))\n",
    "        if self.pen:\n",
    "            # pass\n",
    "            # if pen is down, add line to the axes \n",
    "            line = plt.Line2D((self.position[0],new_position[0]), (self.position[1],new_position[1]))\n",
    "            # self.make_plot()\n",
    "            self.axes.add_line(line)\n",
    "            \n",
    "        self.position = new_position\n",
    "            \n",
    "        if self.pen:\n",
    "            pass\n",
    "            #self.make_plot()\n",
    "        \n",
    "    def left(self):\n",
    "        self.angle=self.angle+45\n",
    "        self.forward()\n",
    "    \n",
    "    def right(self):\n",
    "        self.angle=self.angle-45\n",
    "        self.forward()\n",
    "        \n",
    "    def penup(self):\n",
    "        if(self.pen):\n",
    "            pass\n",
    "            #self.tracks.append(self.track)\n",
    "        self.pen=False\n",
    "        \n",
    "    def pendown(self):\n",
    "        if(not self.pen):\n",
    "            pass\n",
    "            #self.track=[[0],[0]]\n",
    "        self.pen=True\n",
    "              \n",
    "    def show_position(self):\n",
    "        self.position\n",
    "        print(self.position)"
   ]
  },
  {
   "cell_type": "code",
   "execution_count": 518,
   "id": "fa82657d",
   "metadata": {},
   "outputs": [],
   "source": [
    "class Canvas():\n",
    "    \n",
    "    def __init__(self):\n",
    "        # Define figure\n",
    "        self.fig=plt.figure(figsize=(3,3))\n",
    "        self.axes=plt.axes()\n",
    "\n",
    "        # Define line type with x'ses and y's\n",
    "        line=plt.Line2D((0,1),(0,1))\n",
    "        # Add the line to the plot\n",
    "        self.axes.add_line(line)\n",
    "        \n",
    "        # Set x-ticks and y-ticks to nothing\n",
    "        self.axes.set_xticks([])\n",
    "        self.axes.set_yticks([])\n",
    "        \n",
    "        # change color of box\n",
    "        for spine in ['bottom','top','left','right']:\n",
    "            self.axes.spines[spine].set_color('0.9')\n",
    "    \n",
    "        # rescale axes to fit drawing\n",
    "        self.axes.axis('scaled')\n",
    "\n",
    "        # add a small border/margin\n",
    "        xmin, xmax, ymin, ymax = axes.axis()\n",
    "        dx = (xmax - xmin) / 50\n",
    "        self.axes.axis([xmin-dx,xmax+dx,ymin-dx,ymax+dx]);  # semicolon avoid printing out object\n",
    "        \n",
    "    def draw_line(self):\n",
    "        self.axes.axis('scaled')\n",
    "\n",
    "        xmin, xmax, ymin, ymax = self.axes.axis()\n",
    "        dx = (xmax - xmin) / 50\n",
    "        self.axes.axis([xmin-dx,xmax+dx,ymin-dx,ymax+dx]) \n",
    "        \n",
    "    "
   ]
  },
  {
   "cell_type": "code",
   "execution_count": 519,
   "id": "c4c63c53",
   "metadata": {},
   "outputs": [
    {
     "data": {
      "image/png": "[encoded data removed]",
      "text/plain": [
       "<Figure size 216x216 with 1 Axes>"
      ]
     },
     "metadata": {},
     "output_type": "display_data"
    }
   ],
   "source": [
    "paper = Canvas()"
   ]
  },
  {
   "cell_type": "code",
   "execution_count": 524,
   "id": "26a07e72",
   "metadata": {},
   "outputs": [
    {
     "name": "stdout",
     "output_type": "stream",
     "text": [
      "(0, 0)\n"
     ]
    }
   ],
   "source": [
    "obj = Turtle(paper)\n",
    "obj.show_position()"
   ]
  },
  {
   "cell_type": "code",
   "execution_count": 525,
   "id": "ce5ee7c9",
   "metadata": {},
   "outputs": [
    {
     "data": {
      "text/plain": [
       "__main__.Turtle"
      ]
     },
     "execution_count": 525,
     "metadata": {},
     "output_type": "execute_result"
    }
   ],
   "source": [
    "type(obj)"
   ]
  },
  {
   "cell_type": "code",
   "execution_count": 526,
   "id": "b0818cff",
   "metadata": {},
   "outputs": [
    {
     "data": {
      "text/plain": [
       "0"
      ]
     },
     "execution_count": 526,
     "metadata": {},
     "output_type": "execute_result"
    }
   ],
   "source": [
    "obj.angle"
   ]
  },
  {
   "cell_type": "code",
   "execution_count": 527,
   "id": "4e0c9ba2",
   "metadata": {},
   "outputs": [
    {
     "name": "stdout",
     "output_type": "stream",
     "text": [
      "(0, 0)\n"
     ]
    }
   ],
   "source": [
    "obj.show_position()"
   ]
  },
  {
   "cell_type": "code",
   "execution_count": 531,
   "id": "35cf361a",
   "metadata": {},
   "outputs": [
    {
     "name": "stdout",
     "output_type": "stream",
     "text": [
      "(5.121320343559643, 4.121320343559642)\n",
      "(6.121320343559643, 4.121320343559642)\n",
      "(7.121320343559643, 4.121320343559642)\n",
      "(7.828427124746191, 4.82842712474619)\n",
      "(7.828427124746191, 5.82842712474619)\n",
      "(7.828427124746191, 6.82842712474619)\n",
      "(8.535533905932738, 7.535533905932738)\n",
      "(7.82842712474619, 6.82842712474619)\n",
      "(8.535533905932738, 7.535533905932738)\n",
      "(9.242640687119286, 8.242640687119286)\n",
      "(10.242640687119286, 8.242640687119286)\n"
     ]
    }
   ],
   "source": [
    "obj.show_position()\n",
    "obj.forward()\n",
    "obj.show_position()\n",
    "obj.forward()\n",
    "obj.show_position()\n",
    "obj.left()\n",
    "obj.show_position()\n",
    "obj.left()\n",
    "obj.show_position()\n",
    "obj.forward()\n",
    "obj.show_position()\n",
    "obj.right()\n",
    "obj.show_position()\n",
    "obj.back()\n",
    "obj.show_position()\n",
    "obj.forward()\n",
    "obj.show_position()\n",
    "obj.forward()\n",
    "obj.show_position()\n",
    "obj.right()\n",
    "obj.show_position()"
   ]
  },
  {
   "cell_type": "code",
   "execution_count": 532,
   "id": "748ead3b",
   "metadata": {},
   "outputs": [
    {
     "name": "stdout",
     "output_type": "stream",
     "text": [
      "(10.242640687119286, 8.242640687119286)\n"
     ]
    }
   ],
   "source": [
    "obj.show_position()"
   ]
  },
  {
   "cell_type": "code",
   "execution_count": 534,
   "id": "46ab94ed",
   "metadata": {},
   "outputs": [
    {
     "ename": "TypeError",
     "evalue": "draw_line() takes 1 positional argument but 2 were given",
     "output_type": "error",
     "traceback": [
      "\u001b[0;31m---------------------------------------------------------------------------\u001b[0m",
      "\u001b[0;31mTypeError\u001b[0m                                 Traceback (most recent call last)",
      "Input \u001b[0;32mIn [534]\u001b[0m, in \u001b[0;36m<cell line: 2>\u001b[0;34m()\u001b[0m\n\u001b[1;32m      1\u001b[0m \u001b[38;5;66;03m#paper.draw_line(obj.track[0], obj.track[1])\u001b[39;00m\n\u001b[0;32m----> 2\u001b[0m \u001b[43mpaper\u001b[49m\u001b[38;5;241;43m.\u001b[39;49m\u001b[43mdraw_line\u001b[49m\u001b[43m(\u001b[49m\u001b[43mpaper\u001b[49m\u001b[43m)\u001b[49m\n",
      "\u001b[0;31mTypeError\u001b[0m: draw_line() takes 1 positional argument but 2 were given"
     ]
    }
   ],
   "source": [
    "#paper.draw_line(obj.track[0], obj.track[1])\n",
    "paper.draw_line()"
   ]
  },
  {
   "cell_type": "code",
   "execution_count": null,
   "id": "42cb03e9",
   "metadata": {},
   "outputs": [],
   "source": [
    "class Library:\n",
    "    def __init__(self):\n",
    "        self.book=True"
   ]
  },
  {
   "cell_type": "code",
   "execution_count": null,
   "id": "865fd5cb",
   "metadata": {},
   "outputs": [],
   "source": [
    "libraryOfAlexandria = Library()"
   ]
  },
  {
   "cell_type": "code",
   "execution_count": 510,
   "id": "d136dd39",
   "metadata": {},
   "outputs": [
    {
     "data": {
      "text/plain": [
       "<matplotlib.lines.Line2D at 0x117e0c4f0>"
      ]
     },
     "execution_count": 510,
     "metadata": {},
     "output_type": "execute_result"
    },
    {
     "data": {
      "image/png": "[encoded data removed]",
      "text/plain": [
       "<Figure size 216x216 with 1 Axes>"
      ]
     },
     "metadata": {
      "needs_background": "light"
     },
     "output_type": "display_data"
    }
   ],
   "source": [
    "# Define figure\n",
    "fig=plt.figure(figsize=(3,3))\n",
    "axes=plt.axes()\n",
    "\n",
    "# Define line type and x'ses and y's\n",
    "line=plt.Line2D((0,1),(0,1))\n",
    "# Add the line to the plot\n",
    "axes.add_line(line)"
   ]
  },
  {
   "cell_type": "code",
   "execution_count": null,
   "id": "e01004f4",
   "metadata": {},
   "outputs": [],
   "source": [
    "# Define figure\n",
    "fig=plt.figure(figsize=(3,3))\n",
    "axes=plt.axes()\n",
    "\n",
    "# Define line type and x'ses and y's\n",
    "line=plt.Line2D((0,1),(0,1))\n",
    "# Add the line to the plot\n",
    "axes.add_line(line)\n",
    "\n",
    "# Set x-ticks and y-ticks to nothing\n",
    "axes.set_xticks([])\n",
    "axes.set_yticks([])"
   ]
  },
  {
   "cell_type": "code",
   "execution_count": null,
   "id": "96326721",
   "metadata": {},
   "outputs": [],
   "source": [
    "# Define figure\n",
    "fig=plt.figure(figsize=(3,3))\n",
    "axes=plt.axes()\n",
    "\n",
    "# Define line type and x'ses and y's\n",
    "line=plt.Line2D((0,1),(0,1))\n",
    "# Add the line to the plot\n",
    "axes.add_line(line)\n",
    "\n",
    "# Set x-ticks and y-ticks to nothing\n",
    "axes.set_xticks([])\n",
    "axes.set_yticks([])\n",
    "\n",
    "# change color of box\n",
    "for spine in ['bottom','top','left','right']:\n",
    "    axes.spines[spine].set_color('0.9')"
   ]
  },
  {
   "cell_type": "code",
   "execution_count": null,
   "id": "b2281586",
   "metadata": {},
   "outputs": [],
   "source": [
    "# Define figure\n",
    "fig=plt.figure(figsize=(3,3))\n",
    "axes=plt.axes()\n",
    "\n",
    "# Define line type and x'ses and y's\n",
    "line=plt.Line2D((0,1),(0,1))\n",
    "# Add the line to the plot\n",
    "axes.add_line(line)\n",
    "\n",
    "# Set x-ticks and y-ticks to nothing\n",
    "axes.set_xticks([])\n",
    "axes.set_yticks([])\n",
    "\n",
    "# change color of box\n",
    "for spine in ['bottom','top','left','right']:\n",
    "    axes.spines[spine].set_color('0.9')\n",
    "    \n",
    "# rescale axes to fit drawing\n",
    "axes.axis('scaled')"
   ]
  },
  {
   "cell_type": "code",
   "execution_count": null,
   "id": "05c29a67",
   "metadata": {},
   "outputs": [],
   "source": [
    "# Define figure\n",
    "fig=plt.figure(figsize=(3,3))\n",
    "axes=plt.axes()\n",
    "\n",
    "# Define line type and x'ses and y's\n",
    "line=plt.Line2D((0,1),(0,1))\n",
    "# Add the line to the plot\n",
    "axes.add_line(line)\n",
    "\n",
    "# Set x-ticks and y-ticks to nothing\n",
    "axes.set_xticks([])\n",
    "axes.set_yticks([])\n",
    "\n",
    "# change color of box\n",
    "for spine in ['bottom','top','left','right']:\n",
    "    axes.spines[spine].set_color('0.9')\n",
    "    \n",
    "# rescale axes to fit drawing\n",
    "axes.axis('scaled')\n",
    "\n",
    "# add a small border/margin\n",
    "xmin, xmax, ymin, ymax = axes.axis()\n",
    "dx = (xmax - xmin) / 50\n",
    "axes.axis([xmin-dx,xmax+dx,ymin-dx,ymax+dx]);  # semicolon avoid printing out object"
   ]
  },
  {
   "cell_type": "code",
   "execution_count": null,
   "id": "0873cf51",
   "metadata": {},
   "outputs": [],
   "source": [
    "track=[[0,2],[1,3]]"
   ]
  },
  {
   "cell_type": "code",
   "execution_count": null,
   "id": "ee61e8cb",
   "metadata": {},
   "outputs": [],
   "source": [
    "track"
   ]
  },
  {
   "cell_type": "code",
   "execution_count": null,
   "id": "bcf09644",
   "metadata": {},
   "outputs": [],
   "source": [
    "type(track)"
   ]
  },
  {
   "cell_type": "code",
   "execution_count": null,
   "id": "423ec9d9",
   "metadata": {},
   "outputs": [],
   "source": [
    "track[0]"
   ]
  },
  {
   "cell_type": "code",
   "execution_count": null,
   "id": "b2acc5b5",
   "metadata": {},
   "outputs": [],
   "source": [
    "type(track[0])"
   ]
  },
  {
   "cell_type": "code",
   "execution_count": null,
   "id": "52289dcd",
   "metadata": {},
   "outputs": [],
   "source": [
    "track[1]"
   ]
  },
  {
   "cell_type": "raw",
   "id": "402f62e6",
   "metadata": {},
   "source": [
    "track[0].append(1)"
   ]
  },
  {
   "cell_type": "code",
   "execution_count": null,
   "id": "4714b3a8",
   "metadata": {},
   "outputs": [],
   "source": [
    "track[0]"
   ]
  },
  {
   "cell_type": "code",
   "execution_count": null,
   "id": "18ac73ab",
   "metadata": {},
   "outputs": [],
   "source": [
    "track[0].extend([1])"
   ]
  },
  {
   "cell_type": "code",
   "execution_count": null,
   "id": "000c89d2",
   "metadata": {},
   "outputs": [],
   "source": [
    "track[0]"
   ]
  },
  {
   "cell_type": "code",
   "execution_count": null,
   "id": "1579de4c",
   "metadata": {},
   "outputs": [],
   "source": [
    "track[1].extend([3,5,7,9])"
   ]
  },
  {
   "cell_type": "code",
   "execution_count": null,
   "id": "986f6675",
   "metadata": {},
   "outputs": [],
   "source": [
    "track[1]"
   ]
  },
  {
   "cell_type": "code",
   "execution_count": null,
   "id": "e3f8faa7",
   "metadata": {},
   "outputs": [],
   "source": [
    "track"
   ]
  },
  {
   "cell_type": "code",
   "execution_count": null,
   "id": "4702b72f",
   "metadata": {},
   "outputs": [],
   "source": [
    "my_list=[1,2,3,4]"
   ]
  },
  {
   "cell_type": "code",
   "execution_count": null,
   "id": "84637b26",
   "metadata": {},
   "outputs": [],
   "source": [
    "my_list"
   ]
  },
  {
   "cell_type": "code",
   "execution_count": null,
   "id": "536dfe76",
   "metadata": {},
   "outputs": [],
   "source": [
    "my_list.append(5)"
   ]
  },
  {
   "cell_type": "code",
   "execution_count": null,
   "id": "f8d94166",
   "metadata": {},
   "outputs": [],
   "source": [
    "my_list"
   ]
  },
  {
   "cell_type": "code",
   "execution_count": null,
   "id": "9c03a742",
   "metadata": {},
   "outputs": [],
   "source": []
  }
 ],
 "metadata": {
  "kernelspec": {
   "display_name": "Python 3 (ipykernel)",
   "language": "python",
   "name": "python3"
  },
  "language_info": {
   "codemirror_mode": {
    "name": "ipython",
    "version": 3
   },
   "file_extension": ".py",
   "mimetype": "text/x-python",
   "name": "python",
   "nbconvert_exporter": "python",
   "pygments_lexer": "ipython3",
   "version": "3.9.12"
  }
 },
 "nbformat": 4,
 "nbformat_minor": 5
}
